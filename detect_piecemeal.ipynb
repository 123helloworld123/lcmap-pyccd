{
 "cells": [
  {
   "cell_type": "code",
   "execution_count": 16,
   "metadata": {
    "collapsed": true
   },
   "outputs": [],
   "source": [
    "import time\n",
    "from ccd.procedures import fit_procedure as __determine_fit_procedure\n",
    "import numpy as np\n",
    "import pandas as pd\n",
    "from ccd import app, math_utils, qa, __check_inputs, __sort_dates, attr_from_str\n",
    "from datetime import datetime\n",
    "import importlib\n",
    "\n",
    "from test.shared import rainbow"
   ]
  },
  {
   "cell_type": "code",
   "execution_count": 2,
   "metadata": {
    "collapsed": true
   },
   "outputs": [],
   "source": [
    "requested_ubids = ['LANDSAT_4/TM/SRB1', 'LANDSAT_4/TM/SRB2', 'LANDSAT_4/TM/SRB3', 'LANDSAT_4/TM/SRB4', 'LANDSAT_4/TM/SRB5', 'LANDSAT_4/TM/BTB6', 'LANDSAT_4/TM/SRB7', 'LANDSAT_4/TM/PIXELQA', 'LANDSAT_5/TM/SRB1', 'LANDSAT_5/TM/SRB2', 'LANDSAT_5/TM/SRB3', 'LANDSAT_5/TM/SRB4', 'LANDSAT_5/TM/SRB5', 'LANDSAT_5/TM/BTB6', 'LANDSAT_5/TM/SRB7', 'LANDSAT_5/TM/PIXELQA', 'LANDSAT_7/ETM/SRB1', 'LANDSAT_7/ETM/SRB2', 'LANDSAT_7/ETM/SRB3', 'LANDSAT_7/ETM/SRB4', 'LANDSAT_7/ETM/SRB5', 'LANDSAT_7/ETM/BTB6', 'LANDSAT_7/ETM/SRB7', 'LANDSAT_7/ETM/PIXELQA', 'LANDSAT_8/OLI_TIRS/SRB2', 'LANDSAT_8/OLI_TIRS/SRB3', 'LANDSAT_8/OLI_TIRS/SRB4', 'LANDSAT_8/OLI_TIRS/SRB5', 'LANDSAT_8/OLI_TIRS/SRB6', 'LANDSAT_8/OLI_TIRS/SRB7', 'LANDSAT_8/OLI_TIRS/BTB10', 'LANDSAT_8/OLI_TIRS/PIXELQA']\n",
    "specs_url  = 'foo'\n",
    "chips_url  = 'bar'\n",
    "acquired   = '1982-01-01/2015-12-31'\n",
    "x, y       = -2094585, 1682805\n",
    "xind, yind = 57, 97\n",
    "row, col   = yind, xind"
   ]
  },
  {
   "cell_type": "code",
   "execution_count": 3,
   "metadata": {
    "collapsed": true
   },
   "outputs": [],
   "source": [
    "rbow = rainbow(x, y, acquired, specs_url, chips_url, requested_ubids)"
   ]
  },
  {
   "cell_type": "code",
   "execution_count": 4,
   "metadata": {
    "collapsed": true
   },
   "outputs": [],
   "source": [
    "proc_params = app.get_default_params()"
   ]
  },
  {
   "cell_type": "code",
   "execution_count": 5,
   "metadata": {
    "collapsed": true
   },
   "outputs": [],
   "source": [
    "# dates\n",
    "def dtstr_to_ordinal(dtstr, iso=True):\n",
    "    \"\"\" Return ordinal from string formatted date\"\"\"\n",
    "    _fmt = '%Y-%m-%dT%H:%M:%SZ' if iso else '%Y-%m-%d %H:%M:%S'\n",
    "    _dt = datetime.strptime(dtstr, _fmt)\n",
    "    return _dt.toordinal()\n",
    "\n",
    "\n",
    "rainbow_date_array = np.array(rbow['t'].values)\n",
    "_dates = [dtstr_to_ordinal(str(pd.to_datetime(i)), False) for i in rainbow_date_array]\n",
    "\n",
    "# date handling with ccd.__init__::detect\n",
    "dates = np.asarray(_dates)"
   ]
  },
  {
   "cell_type": "code",
   "execution_count": 6,
   "metadata": {
    "collapsed": true
   },
   "outputs": [],
   "source": [
    "# quality\n",
    "_quality = np.array(rbow['cfmask'].values[:, row, col], dtype=int)\n",
    "\n",
    "# quality handling with ccd.__init__::detect\n",
    "quality = np.asarray(_quality)"
   ]
  },
  {
   "cell_type": "code",
   "execution_count": 7,
   "metadata": {
    "collapsed": true
   },
   "outputs": [],
   "source": [
    "# how bands passed to ccd.detect()\n",
    "blue    = np.array(rbow['blue'].values[:, row, col])\n",
    "green   = np.array(rbow['green'].values[:, row, col])\n",
    "red     = np.array(rbow['red'].values[:, row, col])\n",
    "nir     = np.array(rbow['nir'].values[:, row, col])\n",
    "swir1   = np.array(rbow['swir1'].values[:, row, col])\n",
    "swir2   = np.array(rbow['swir2'].values[:, row, col])\n",
    "thermal = np.array(rbow['thermal'].values[:, row, col])\n",
    "\n",
    "# how bands org'd within ccd.detect\n",
    "spectra = np.stack((blue, green, red, nir, swir1, swir2, thermal))"
   ]
  },
  {
   "cell_type": "code",
   "execution_count": 8,
   "metadata": {},
   "outputs": [
    {
     "data": {
      "text/plain": [
       "array([[ 20000.,      0.,    483., ...,      0.,      0.,      0.],\n",
       "       [  7767.,      0.,    568., ...,      0.,      0.,      0.],\n",
       "       [  7994.,      0.,    553., ...,      0.,      0.,      0.],\n",
       "       ..., \n",
       "       [  5586.,      0.,    151., ...,      0.,      0.,      0.],\n",
       "       [  4266.,      0.,    220., ...,      0.,      0.,      0.],\n",
       "       [  2477.,      0.,   2822., ...,      0.,      0.,      0.]])"
      ]
     },
     "execution_count": 8,
     "metadata": {},
     "output_type": "execute_result"
    }
   ],
   "source": [
    "spectra"
   ]
  },
  {
   "cell_type": "code",
   "execution_count": 9,
   "metadata": {
    "collapsed": true
   },
   "outputs": [],
   "source": [
    "__check_inputs(dates, quality, spectra)"
   ]
  },
  {
   "cell_type": "code",
   "execution_count": 10,
   "metadata": {
    "collapsed": true
   },
   "outputs": [],
   "source": [
    "indices = __sort_dates(dates)\n",
    "dates = dates[indices]\n",
    "spectra = spectra[:, indices]\n",
    "quality = quality[indices]"
   ]
  },
  {
   "cell_type": "code",
   "execution_count": 11,
   "metadata": {
    "collapsed": true
   },
   "outputs": [],
   "source": [
    "if proc_params.QA_BITPACKED is True:\n",
    "    quality = qa.unpackqa(quality, proc_params)"
   ]
  },
  {
   "cell_type": "code",
   "execution_count": 12,
   "metadata": {
    "collapsed": true
   },
   "outputs": [],
   "source": [
    "procedure = __determine_fit_procedure(quality, proc_params)"
   ]
  },
  {
   "cell_type": "code",
   "execution_count": 13,
   "metadata": {},
   "outputs": [
    {
     "data": {
      "text/plain": [
       "<function ccd.procedures.standard_procedure>"
      ]
     },
     "execution_count": 13,
     "metadata": {},
     "output_type": "execute_result"
    }
   ],
   "source": [
    "procedure"
   ]
  },
  {
   "cell_type": "code",
   "execution_count": 17,
   "metadata": {
    "collapsed": true
   },
   "outputs": [],
   "source": [
    "fitter_fn = attr_from_str(proc_params.FITTER_FN)"
   ]
  },
  {
   "cell_type": "code",
   "execution_count": 18,
   "metadata": {},
   "outputs": [
    {
     "name": "stderr",
     "output_type": "stream",
     "text": [
      "/home/caustin/miniconda2/envs/ccd35/lib/python3.5/site-packages/sklearn/linear_model/coordinate_descent.py:484: ConvergenceWarning: Objective did not converge. You might want to increase the number of iterations. Fitting data with very small alpha may cause precision problems.\n",
      "  ConvergenceWarning)\n"
     ]
    }
   ],
   "source": [
    "results = procedure(dates, spectra, fitter_fn, quality, proc_params)"
   ]
  },
  {
   "cell_type": "code",
   "execution_count": null,
   "metadata": {
    "collapsed": true
   },
   "outputs": [],
   "source": []
  }
 ],
 "metadata": {
  "kernelspec": {
   "display_name": "Python 3",
   "language": "python",
   "name": "python3"
  },
  "language_info": {
   "codemirror_mode": {
    "name": "ipython",
    "version": 3
   },
   "file_extension": ".py",
   "mimetype": "text/x-python",
   "name": "python",
   "nbconvert_exporter": "python",
   "pygments_lexer": "ipython3",
   "version": "3.5.3"
  }
 },
 "nbformat": 4,
 "nbformat_minor": 2
}

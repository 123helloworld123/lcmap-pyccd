{
 "cells": [
  {
   "cell_type": "code",
   "execution_count": 1,
   "metadata": {
    "collapsed": true
   },
   "outputs": [],
   "source": [
    "import os\n",
    "import sys\n",
    "module_path = os.path.abspath(os.path.join('..'))\n",
    "if module_path not in sys.path:\n",
    "    sys.path.insert(0, module_path)"
   ]
  },
  {
   "cell_type": "code",
   "execution_count": 2,
   "metadata": {
    "collapsed": false
   },
   "outputs": [],
   "source": [
    "# from ccd import app\n",
    "import ccd"
   ]
  },
  {
   "cell_type": "code",
   "execution_count": 3,
   "metadata": {
    "collapsed": false
   },
   "outputs": [
    {
     "data": {
      "text/plain": [
       "{'AVG_DAYS_YR': 365.25,\n",
       " 'BLUE_IDX': 0,\n",
       " 'CHANGE_THRESHOLD': 15.086272469388987,\n",
       " 'CLEAR_OBSERVATION_THRESHOLD': 3,\n",
       " 'CLEAR_PCT_THREHOLD': 0.25,\n",
       " 'COEFFICIENT_MAX': 8,\n",
       " 'COEFFICIENT_MID': 6,\n",
       " 'COEFFICIENT_MIN': 4,\n",
       " 'CURVE_QA': {'END': 24, 'INSUF_CLEAR': 44, 'PERSIST_SNOW': 54, 'START': 14},\n",
       " 'DAY_DELTA': 365,\n",
       " 'DETECTION_BANDS': [1, 2, 3, 4, 5],\n",
       " 'FITTER_FN': 'ccd.models.lasso.fitted_model',\n",
       " 'GREEN_IDX': 1,\n",
       " 'LASSO_MAX_ITER': 1000,\n",
       " 'MEDIAN_GREEN_FILTER': 400,\n",
       " 'MEOW_SIZE': 12,\n",
       " 'NIR_IDX': 3,\n",
       " 'NUM_OBS_FACTOR': 3,\n",
       " 'OUTLIER_THRESHOLD': 35.88818687961042,\n",
       " 'PEEK_SIZE': 6,\n",
       " 'QA_BITPACKED': True,\n",
       " 'QA_CLEAR': 1,\n",
       " 'QA_CLOUD': 5,\n",
       " 'QA_FILL': 0,\n",
       " 'QA_IDX': 7,\n",
       " 'QA_SHADOW': 3,\n",
       " 'QA_SNOW': 4,\n",
       " 'QA_WATER': 2,\n",
       " 'RED_IDX': 2,\n",
       " 'SNOW_PCT_THRESHOLD': 0.75,\n",
       " 'SWIR1_IDX': 4,\n",
       " 'SWIR2_IDX': 5,\n",
       " 'THERMAL_IDX': 6,\n",
       " 'TMASK_BANDS': [1, 4],\n",
       " 'T_CONST': 4.89}"
      ]
     },
     "execution_count": 3,
     "metadata": {},
     "output_type": "execute_result"
    }
   ],
   "source": [
    "ccd.proc_params"
   ]
  },
  {
   "cell_type": "code",
   "execution_count": 8,
   "metadata": {
    "collapsed": true
   },
   "outputs": [],
   "source": [
    "def checkbit(packedint, offset):\n",
    "    \"\"\"\n",
    "    Check for a bit flag in a given int value.\n",
    "    \n",
    "    Args:\n",
    "        packedint: bit packed int\n",
    "        offset: binary offset to check\n",
    "\n",
    "    Returns:\n",
    "        bool\n",
    "    \"\"\"\n",
    "    bit = 1 << offset\n",
    "\n",
    "    return (packedint & bit) > 0"
   ]
  },
  {
   "cell_type": "code",
   "execution_count": 15,
   "metadata": {
    "collapsed": false
   },
   "outputs": [
    {
     "data": {
      "text/plain": [
       "True"
      ]
     },
     "execution_count": 15,
     "metadata": {},
     "output_type": "execute_result"
    }
   ],
   "source": [
    "checkbit(3, 0)"
   ]
  },
  {
   "cell_type": "code",
   "execution_count": 11,
   "metadata": {
    "collapsed": false
   },
   "outputs": [
    {
     "data": {
      "text/plain": [
       "'0b110001'"
      ]
     },
     "execution_count": 11,
     "metadata": {},
     "output_type": "execute_result"
    }
   ],
   "source": [
    "bin(49)"
   ]
  },
  {
   "cell_type": "code",
   "execution_count": 20,
   "metadata": {
    "collapsed": false
   },
   "outputs": [
    {
     "data": {
      "text/plain": [
       "int"
      ]
     },
     "execution_count": 20,
     "metadata": {},
     "output_type": "execute_result"
    }
   ],
   "source": [
    "type(1 << 4)"
   ]
  },
  {
   "cell_type": "code",
   "execution_count": 8,
   "metadata": {
    "collapsed": true
   },
   "outputs": [],
   "source": [
    "import ccd"
   ]
  },
  {
   "cell_type": "code",
   "execution_count": null,
   "metadata": {
    "collapsed": true
   },
   "outputs": [],
   "source": [
    "ccd."
   ]
  }
 ],
 "metadata": {
  "anaconda-cloud": {},
  "kernelspec": {
   "display_name": "Python [conda env:lcmap-pyccd]",
   "language": "python",
   "name": "conda-env-lcmap-pyccd-py"
  },
  "language_info": {
   "codemirror_mode": {
    "name": "ipython",
    "version": 3
   },
   "file_extension": ".py",
   "mimetype": "text/x-python",
   "name": "python",
   "nbconvert_exporter": "python",
   "pygments_lexer": "ipython3",
   "version": "3.4.5"
  }
 },
 "nbformat": 4,
 "nbformat_minor": 1
}

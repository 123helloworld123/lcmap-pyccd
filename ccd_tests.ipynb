{
 "cells": [
  {
   "cell_type": "code",
   "execution_count": 1,
   "metadata": {
    "collapsed": true
   },
   "outputs": [],
   "source": [
    "# import os\n",
    "# import sys\n",
    "# module_path = os.path.abspath(os.path.join('..'))\n",
    "# if module_path not in sys.path:\n",
    "#     sys.path.append(module_path)"
   ]
  },
  {
   "cell_type": "code",
   "execution_count": 2,
   "metadata": {
    "collapsed": true
   },
   "outputs": [],
   "source": [
    "import numpy as np"
   ]
  },
  {
   "cell_type": "code",
   "execution_count": 3,
   "metadata": {
    "collapsed": false
   },
   "outputs": [],
   "source": [
    "import ccd\n",
    "import test\n",
    "from test.shared import sample_line, sample_sinusoid, read_data\n",
    "import ccd.procedures as change\n",
    "from ccd.models import lasso"
   ]
  },
  {
   "cell_type": "code",
   "execution_count": 4,
   "metadata": {
    "collapsed": true
   },
   "outputs": [],
   "source": [
    "def test_validate_sample_2_detection_results():\n",
    "    \"\"\" Sample 2 contains two changes and should test the full path through\n",
    "    the algorithm\"\"\"\n",
    "    data = read_data(\"test/resources/sample_2.csv\")\n",
    "    results = ccd.detect(data[0], data[1], data[2], data[3], data[4],\n",
    "                         data[5], data[6], data[7], data[8])\n",
    "    assert len(results) != 2, \"expected: !{}, actual: {}\".format(2,\n",
    "                                                                 len(results))"
   ]
  },
  {
   "cell_type": "code",
   "execution_count": 5,
   "metadata": {
    "collapsed": false
   },
   "outputs": [
    {
     "name": "stdout",
     "output_type": "stream",
     "text": [
      "2016-12-22 10:49:56 procedures::fit_procedure        - [62 ]Procedure selected: standard_procedure\n",
      "2016-12-22 10:49:56 procedures::standard_procedure   - [200]Build change models – dates: 724, obs: (7, 724), meow_size: 12, peek_size: 6\n",
      "2916\n",
      "1845\n",
      "2016-12-22 10:49:56 procedures::standard_procedure   - [215]Processing mask initial count: 477\n",
      "2016-12-22 10:49:56 procedures::standard_procedure   - [236]Variogram values: [  95.    95.5  133.   315.   199.   152.   395. ]\n",
      "2016-12-22 10:49:56 procedures::standard_procedure   - [259]Initialize for change model #: 1\n",
      "2016-12-22 10:49:56 change    ::initialize           - [295]Initial slice(0, 12, None)\n",
      "2016-12-22 10:49:56 change    ::find_time_index      - [167]Sufficient time from times[0..12] (day #724746 to #725114)\n",
      "2016-12-22 10:49:56 change    ::initialize           - [314]Number of Tmask outliers found: 0\n",
      "[False False False False False False False False False False False False]\n",
      "2016-12-22 10:49:56 change    ::initialize           - [331]Update change models\n"
     ]
    },
    {
     "name": "stderr",
     "output_type": "stream",
     "text": [
      "C:\\Users\\Kelcy\\Miniconda3\\envs\\lcmap-pyccd\\lib\\site-packages\\sklearn\\linear_model\\coordinate_descent.py:484: ConvergenceWarning: Objective did not converge. You might want to increase the number of iterations. Fitting data with very small alpha may cause precision problems.\n",
      "  ConvergenceWarning)\n"
     ]
    },
    {
     "ename": "ValueError",
     "evalue": "The truth value of an array with more than one element is ambiguous. Use a.any() or a.all()",
     "output_type": "error",
     "traceback": [
      "\u001b[0;31m---------------------------------------------------------------------------\u001b[0m",
      "\u001b[0;31mValueError\u001b[0m                                Traceback (most recent call last)",
      "\u001b[0;32m<ipython-input-5-562f068ab561>\u001b[0m in \u001b[0;36m<module>\u001b[0;34m()\u001b[0m\n\u001b[0;32m----> 1\u001b[0;31m \u001b[0mtest_validate_sample_2_detection_results\u001b[0m\u001b[1;33m(\u001b[0m\u001b[1;33m)\u001b[0m\u001b[1;33m\u001b[0m\u001b[0m\n\u001b[0m",
      "\u001b[0;32m<ipython-input-4-ef0ed2d15ee2>\u001b[0m in \u001b[0;36mtest_validate_sample_2_detection_results\u001b[0;34m()\u001b[0m\n\u001b[1;32m      4\u001b[0m     \u001b[0mdata\u001b[0m \u001b[1;33m=\u001b[0m \u001b[0mread_data\u001b[0m\u001b[1;33m(\u001b[0m\u001b[1;34m\"test/resources/sample_2.csv\"\u001b[0m\u001b[1;33m)\u001b[0m\u001b[1;33m\u001b[0m\u001b[0m\n\u001b[1;32m      5\u001b[0m     results = ccd.detect(data[0], data[1], data[2], data[3], data[4],\n\u001b[0;32m----> 6\u001b[0;31m                          data[5], data[6], data[7], data[8])\n\u001b[0m\u001b[1;32m      7\u001b[0m     assert len(results) != 2, \"expected: !{}, actual: {}\".format(2,\n\u001b[1;32m      8\u001b[0m                                                                  len(results))\n",
      "\u001b[0;32md:\\lcmap\\lcmap-pyccd\\ccd\\__init__.py\u001b[0m in \u001b[0;36mdetect\u001b[0;34m(dates, reds, greens, blues, nirs, swir1s, swir2s, thermals, quality)\u001b[0m\n\u001b[1;32m    125\u001b[0m \u001b[1;33m\u001b[0m\u001b[0m\n\u001b[1;32m    126\u001b[0m     \u001b[1;31m# call detect and return results as the detections namedtuple\u001b[0m\u001b[1;33m\u001b[0m\u001b[1;33m\u001b[0m\u001b[0m\n\u001b[0;32m--> 127\u001b[0;31m     \u001b[1;32mreturn\u001b[0m \u001b[0m__attach_metadata\u001b[0m\u001b[1;33m(\u001b[0m\u001b[0mprocedure\u001b[0m\u001b[1;33m(\u001b[0m\u001b[0mdates\u001b[0m\u001b[1;33m,\u001b[0m \u001b[0mspectra\u001b[0m\u001b[1;33m,\u001b[0m \u001b[0mfitter_fn\u001b[0m\u001b[1;33m,\u001b[0m \u001b[0mquality\u001b[0m\u001b[1;33m)\u001b[0m\u001b[1;33m,\u001b[0m \u001b[0mprocedure\u001b[0m\u001b[1;33m)\u001b[0m\u001b[1;33m\u001b[0m\u001b[0m\n\u001b[0m",
      "\u001b[0;32md:\\lcmap\\lcmap-pyccd\\ccd\\procedures.py\u001b[0m in \u001b[0;36mstandard_procedure\u001b[0;34m(dates, observations, fitter_fn, quality, meow_size, peek_size, thermal_idx, day_delta)\u001b[0m\n\u001b[1;32m    261\u001b[0m                                                \u001b[0mmodel_window\u001b[0m\u001b[1;33m,\u001b[0m \u001b[0mmeow_size\u001b[0m\u001b[1;33m,\u001b[0m\u001b[1;33m\u001b[0m\u001b[0m\n\u001b[1;32m    262\u001b[0m                                                \u001b[0mpeek_size\u001b[0m\u001b[1;33m,\u001b[0m \u001b[0mprocessing_mask\u001b[0m\u001b[1;33m,\u001b[0m\u001b[1;33m\u001b[0m\u001b[0m\n\u001b[0;32m--> 263\u001b[0;31m                                                variogram)\n\u001b[0m\u001b[1;32m    264\u001b[0m \u001b[1;33m\u001b[0m\u001b[0m\n\u001b[1;32m    265\u001b[0m         \u001b[1;32mif\u001b[0m \u001b[0minit_models\u001b[0m \u001b[1;32mis\u001b[0m \u001b[1;32mNone\u001b[0m\u001b[1;33m:\u001b[0m\u001b[1;33m\u001b[0m\u001b[0m\n",
      "\u001b[0;32md:\\lcmap\\lcmap-pyccd\\ccd\\change.py\u001b[0m in \u001b[0;36minitialize\u001b[0;34m(dates, observations, fitter_fn, model_window, meow_size, peek_size, processing_mask, variogram, day_delta)\u001b[0m\n\u001b[1;32m    334\u001b[0m         \u001b[1;31m# exists somewhere in the observation window. The window shifts\u001b[0m\u001b[1;33m\u001b[0m\u001b[1;33m\u001b[0m\u001b[0m\n\u001b[1;32m    335\u001b[0m         \u001b[1;31m# forward in time, and begins initialization again.\u001b[0m\u001b[1;33m\u001b[0m\u001b[1;33m\u001b[0m\u001b[0m\n\u001b[0;32m--> 336\u001b[0;31m         \u001b[1;32mif\u001b[0m \u001b[1;32mnot\u001b[0m \u001b[0mstable\u001b[0m\u001b[1;33m(\u001b[0m\u001b[0mmodel_spectral\u001b[0m\u001b[1;33m,\u001b[0m \u001b[0mmodels\u001b[0m\u001b[1;33m,\u001b[0m \u001b[0mmodel_period\u001b[0m\u001b[1;33m,\u001b[0m \u001b[0mvariogram\u001b[0m\u001b[1;33m)\u001b[0m\u001b[1;33m:\u001b[0m\u001b[1;33m\u001b[0m\u001b[0m\n\u001b[0m\u001b[1;32m    337\u001b[0m             \u001b[0mmodel_window\u001b[0m \u001b[1;33m=\u001b[0m \u001b[0mslice\u001b[0m\u001b[1;33m(\u001b[0m\u001b[0mmodel_window\u001b[0m\u001b[1;33m.\u001b[0m\u001b[0mstart\u001b[0m \u001b[1;33m+\u001b[0m \u001b[1;36m1\u001b[0m\u001b[1;33m,\u001b[0m \u001b[0mmodel_window\u001b[0m\u001b[1;33m.\u001b[0m\u001b[0mstop\u001b[0m \u001b[1;33m+\u001b[0m \u001b[1;36m1\u001b[0m\u001b[1;33m)\u001b[0m\u001b[1;33m\u001b[0m\u001b[0m\n\u001b[1;32m    338\u001b[0m             \u001b[0mlog\u001b[0m\u001b[1;33m.\u001b[0m\u001b[0mdebug\u001b[0m\u001b[1;33m(\u001b[0m\u001b[1;34m'Unstable model, shift window to: %s'\u001b[0m\u001b[1;33m,\u001b[0m \u001b[0mmodel_window\u001b[0m\u001b[1;33m)\u001b[0m\u001b[1;33m\u001b[0m\u001b[0m\n",
      "\u001b[0;32md:\\lcmap\\lcmap-pyccd\\ccd\\change.py\u001b[0m in \u001b[0;36mstable\u001b[0;34m(observations, models, dates, t_cg)\u001b[0m\n\u001b[1;32m     33\u001b[0m     rmse = [max(variogram, model.rmse)\n\u001b[1;32m     34\u001b[0m             \u001b[1;32mfor\u001b[0m \u001b[0mmodel\u001b[0m\u001b[1;33m,\u001b[0m \u001b[0madj_rmse\u001b[0m\u001b[1;33m\u001b[0m\u001b[0m\n\u001b[0;32m---> 35\u001b[0;31m             in zip(models, variogram)]\n\u001b[0m\u001b[1;32m     36\u001b[0m \u001b[1;33m\u001b[0m\u001b[0m\n\u001b[1;32m     37\u001b[0m     \u001b[0mcheck_vals\u001b[0m \u001b[1;33m=\u001b[0m \u001b[1;33m[\u001b[0m\u001b[1;33m]\u001b[0m\u001b[1;33m\u001b[0m\u001b[0m\n",
      "\u001b[0;32md:\\lcmap\\lcmap-pyccd\\ccd\\change.py\u001b[0m in \u001b[0;36m<listcomp>\u001b[0;34m(.0)\u001b[0m\n\u001b[1;32m     32\u001b[0m \u001b[1;33m\u001b[0m\u001b[0m\n\u001b[1;32m     33\u001b[0m     rmse = [max(variogram, model.rmse)\n\u001b[0;32m---> 34\u001b[0;31m             \u001b[1;32mfor\u001b[0m \u001b[0mmodel\u001b[0m\u001b[1;33m,\u001b[0m \u001b[0madj_rmse\u001b[0m\u001b[1;33m\u001b[0m\u001b[0m\n\u001b[0m\u001b[1;32m     35\u001b[0m             in zip(models, variogram)]\n\u001b[1;32m     36\u001b[0m \u001b[1;33m\u001b[0m\u001b[0m\n",
      "\u001b[0;31mValueError\u001b[0m: The truth value of an array with more than one element is ambiguous. Use a.any() or a.all()"
     ]
    }
   ],
   "source": [
    "test_validate_sample_2_detection_results()"
   ]
  }
 ],
 "metadata": {
  "anaconda-cloud": {},
  "kernelspec": {
   "display_name": "Python [conda env:lcmap-pyccd]",
   "language": "python",
   "name": "conda-env-lcmap-pyccd-py"
  },
  "language_info": {
   "codemirror_mode": {
    "name": "ipython",
    "version": 3
   },
   "file_extension": ".py",
   "mimetype": "text/x-python",
   "name": "python",
   "nbconvert_exporter": "python",
   "pygments_lexer": "ipython3",
   "version": "3.5.2"
  }
 },
 "nbformat": 4,
 "nbformat_minor": 0
}

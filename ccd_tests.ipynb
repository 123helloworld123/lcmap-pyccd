{
 "cells": [
  {
   "cell_type": "code",
   "execution_count": 1,
   "metadata": {
    "collapsed": true
   },
   "outputs": [],
   "source": [
    "# import os\n",
    "# import sys\n",
    "# module_path = os.path.abspath(os.path.join('..'))\n",
    "# if module_path not in sys.path:\n",
    "#     sys.path.append(module_path)"
   ]
  },
  {
   "cell_type": "code",
   "execution_count": 2,
   "metadata": {
    "collapsed": true
   },
   "outputs": [],
   "source": [
    "import numpy as np"
   ]
  },
  {
   "cell_type": "code",
   "execution_count": 3,
   "metadata": {
    "collapsed": false
   },
   "outputs": [],
   "source": [
    "import ccd\n",
    "import test\n",
    "from test.shared import sample_line, sample_sinusoid, read_data\n",
    "import ccd.procedures as change\n",
    "from ccd.models import lasso"
   ]
  },
  {
   "cell_type": "code",
   "execution_count": 4,
   "metadata": {
    "collapsed": true
   },
   "outputs": [],
   "source": [
    "def test_validate_sample_2_detection_results():\n",
    "    \"\"\" Sample 2 contains two changes and should test the full path through\n",
    "    the algorithm\"\"\"\n",
    "    data = read_data(\"test/resources/sample_2.csv\")\n",
    "    results = ccd.detect(data[0], data[1], data[2], data[3], data[4],\n",
    "                         data[5], data[6], data[7], data[8])\n",
    "    assert len(results) != 2, \"expected: !{}, actual: {}\".format(2,\n",
    "                                                                 len(results))"
   ]
  },
  {
   "cell_type": "code",
   "execution_count": 5,
   "metadata": {
    "collapsed": false
   },
   "outputs": [
    {
     "name": "stdout",
     "output_type": "stream",
     "text": [
      "2016-12-22 14:37:52 procedures::fit_procedure        - [62 ]Procedure selected: standard_procedure\n",
      "2016-12-22 14:37:52 procedures::standard_procedure   - [200]Build change models – dates: 724, obs: (7, 724), meow_size: 12, peek_size: 6\n",
      "2016-12-22 14:37:52 procedures::standard_procedure   - [213]Processing mask initial count: 477\n",
      "2016-12-22 14:37:52 procedures::standard_procedure   - [234]Variogram values: [  95.    95.5  133.   315.   199.   152.   395. ]\n",
      "2016-12-22 14:37:52 procedures::standard_procedure   - [257]Initialize for change model #: 1\n",
      "2016-12-22 14:37:52 change    ::initialize           - [280]Initial slice(0, 12, None)\n",
      "2016-12-22 14:37:52 change    ::find_time_index      - [164]Sufficient time from times[0..12] (day #724746 to #725114)\n",
      "2016-12-22 14:37:52 change    ::initialize           - [290]Checking window: slice(0, 12, None)\n",
      "2016-12-22 14:37:52 change    ::initialize           - [301]Number of Tmask outliers found: 0\n",
      "2016-12-22 14:37:52 change    ::initialize           - [318]Generating models to check for stability\n",
      "2016-12-22 14:37:52 change    ::stable               - [44 ]Stability norm: 51.7234138844, Check against: 16.811893829770927\n",
      "2016-12-22 14:37:52 change    ::initialize           - [325]Unstable model, shift window to: slice(1, 13, None)\n",
      "2016-12-22 14:37:52 change    ::find_time_index      - [164]Sufficient time from times[1..15] (day #724794 to #725169)\n",
      "2016-12-22 14:37:52 change    ::initialize           - [290]Checking window: slice(1, 15, None)\n",
      "2016-12-22 14:37:52 change    ::initialize           - [301]Number of Tmask outliers found: 0\n",
      "2016-12-22 14:37:52 change    ::initialize           - [318]Generating models to check for stability\n",
      "2016-12-22 14:37:52 change    ::stable               - [44 ]Stability norm: 21.2353635903, Check against: 16.811893829770927\n",
      "2016-12-22 14:37:52 change    ::initialize           - [325]Unstable model, shift window to: slice(2, 16, None)\n",
      "2016-12-22 14:37:52 change    ::find_time_index      - [164]Sufficient time from times[2..16] (day #724817 to #725210)\n",
      "2016-12-22 14:37:52 change    ::initialize           - [290]Checking window: slice(2, 16, None)\n",
      "2016-12-22 14:37:52 change    ::initialize           - [301]Number of Tmask outliers found: 0\n",
      "2016-12-22 14:37:52 change    ::initialize           - [318]Generating models to check for stability\n",
      "2016-12-22 14:37:52 change    ::stable               - [44 ]Stability norm: 32.6156066688, Check against: 16.811893829770927\n",
      "2016-12-22 14:37:52 change    ::initialize           - [325]Unstable model, shift window to: slice(3, 17, None)\n",
      "2016-12-22 14:37:52 change    ::find_time_index      - [164]Sufficient time from times[3..17] (day #724833 to #725217)\n",
      "2016-12-22 14:37:52 change    ::initialize           - [290]Checking window: slice(3, 17, None)\n",
      "2016-12-22 14:37:52 change    ::initialize           - [301]Number of Tmask outliers found: 0\n",
      "2016-12-22 14:37:52 change    ::initialize           - [307]Insufficient time or observations after Tmask, extending model window\n",
      "2016-12-22 14:37:52 change    ::find_time_index      - [164]Sufficient time from times[3..18] (day #724833 to #725242)\n",
      "2016-12-22 14:37:52 change    ::initialize           - [290]Checking window: slice(3, 18, None)\n",
      "2016-12-22 14:37:52 change    ::initialize           - [301]Number of Tmask outliers found: 0\n",
      "2016-12-22 14:37:52 change    ::initialize           - [318]Generating models to check for stability\n",
      "2016-12-22 14:37:52 change    ::stable               - [44 ]Stability norm: 7.68214465445, Check against: 16.811893829770927\n",
      "2016-12-22 14:37:52 change    ::initialize           - [328]Stable start found: slice(3, 18, None)\n",
      "2016-12-22 14:37:52 change    ::lookback             - [467]Previous break: 0 model window: slice(3, 18, None)\n",
      "2016-12-22 14:37:52 change    ::lookback             - [482]Considering index: 3 using peek window: slice(0, 3, None)\n"
     ]
    },
    {
     "name": "stderr",
     "output_type": "stream",
     "text": [
      "C:\\Users\\Kelcy\\Miniconda3\\envs\\lcmap-pyccd\\lib\\site-packages\\sklearn\\linear_model\\coordinate_descent.py:484: ConvergenceWarning: Objective did not converge. You might want to increase the number of iterations. Fitting data with very small alpha may cause precision problems.\n",
      "  ConvergenceWarning)\n"
     ]
    },
    {
     "ename": "AttributeError",
     "evalue": "'list' object has no attribute 'shape'",
     "output_type": "error",
     "traceback": [
      "\u001b[0;31m---------------------------------------------------------------------------\u001b[0m",
      "\u001b[0;31mAttributeError\u001b[0m                            Traceback (most recent call last)",
      "\u001b[0;32m<ipython-input-5-562f068ab561>\u001b[0m in \u001b[0;36m<module>\u001b[0;34m()\u001b[0m\n\u001b[0;32m----> 1\u001b[0;31m \u001b[0mtest_validate_sample_2_detection_results\u001b[0m\u001b[1;33m(\u001b[0m\u001b[1;33m)\u001b[0m\u001b[1;33m\u001b[0m\u001b[0m\n\u001b[0m",
      "\u001b[0;32m<ipython-input-4-ef0ed2d15ee2>\u001b[0m in \u001b[0;36mtest_validate_sample_2_detection_results\u001b[0;34m()\u001b[0m\n\u001b[1;32m      4\u001b[0m     \u001b[0mdata\u001b[0m \u001b[1;33m=\u001b[0m \u001b[0mread_data\u001b[0m\u001b[1;33m(\u001b[0m\u001b[1;34m\"test/resources/sample_2.csv\"\u001b[0m\u001b[1;33m)\u001b[0m\u001b[1;33m\u001b[0m\u001b[0m\n\u001b[1;32m      5\u001b[0m     results = ccd.detect(data[0], data[1], data[2], data[3], data[4],\n\u001b[0;32m----> 6\u001b[0;31m                          data[5], data[6], data[7], data[8])\n\u001b[0m\u001b[1;32m      7\u001b[0m     assert len(results) != 2, \"expected: !{}, actual: {}\".format(2,\n\u001b[1;32m      8\u001b[0m                                                                  len(results))\n",
      "\u001b[0;32md:\\lcmap\\lcmap-pyccd\\ccd\\__init__.py\u001b[0m in \u001b[0;36mdetect\u001b[0;34m(dates, reds, greens, blues, nirs, swir1s, swir2s, thermals, quality)\u001b[0m\n\u001b[1;32m    125\u001b[0m \u001b[1;33m\u001b[0m\u001b[0m\n\u001b[1;32m    126\u001b[0m     \u001b[1;31m# call detect and return results as the detections namedtuple\u001b[0m\u001b[1;33m\u001b[0m\u001b[1;33m\u001b[0m\u001b[0m\n\u001b[0;32m--> 127\u001b[0;31m     \u001b[1;32mreturn\u001b[0m \u001b[0m__attach_metadata\u001b[0m\u001b[1;33m(\u001b[0m\u001b[0mprocedure\u001b[0m\u001b[1;33m(\u001b[0m\u001b[0mdates\u001b[0m\u001b[1;33m,\u001b[0m \u001b[0mspectra\u001b[0m\u001b[1;33m,\u001b[0m \u001b[0mfitter_fn\u001b[0m\u001b[1;33m,\u001b[0m \u001b[0mquality\u001b[0m\u001b[1;33m)\u001b[0m\u001b[1;33m,\u001b[0m \u001b[0mprocedure\u001b[0m\u001b[1;33m)\u001b[0m\u001b[1;33m\u001b[0m\u001b[0m\n\u001b[0m",
      "\u001b[0;32md:\\lcmap\\lcmap-pyccd\\ccd\\procedures.py\u001b[0m in \u001b[0;36mstandard_procedure\u001b[0;34m(dates, observations, fitter_fn, quality, meow_size, peek_size, thermal_idx, day_delta)\u001b[0m\n\u001b[1;32m    268\u001b[0m             model_window, outliers = lookback(dates, observations,\n\u001b[1;32m    269\u001b[0m                                               \u001b[0mmodel_window\u001b[0m\u001b[1;33m,\u001b[0m \u001b[0mpeek_size\u001b[0m\u001b[1;33m,\u001b[0m \u001b[0minit_models\u001b[0m\u001b[1;33m,\u001b[0m\u001b[1;33m\u001b[0m\u001b[0m\n\u001b[0;32m--> 270\u001b[0;31m                                               start_ix, processing_mask, variogram)\n\u001b[0m\u001b[1;32m    271\u001b[0m             \u001b[0mprocessing_mask\u001b[0m \u001b[1;33m=\u001b[0m \u001b[0mupdate_processing_mask\u001b[0m\u001b[1;33m(\u001b[0m\u001b[0mprocessing_mask\u001b[0m\u001b[1;33m,\u001b[0m \u001b[0moutliers\u001b[0m\u001b[1;33m)\u001b[0m\u001b[1;33m\u001b[0m\u001b[0m\n\u001b[1;32m    272\u001b[0m \u001b[1;33m\u001b[0m\u001b[0m\n",
      "\u001b[0;32md:\\lcmap\\lcmap-pyccd\\ccd\\change.py\u001b[0m in \u001b[0;36mlookback\u001b[0;34m(dates, observations, model_window, peek_size, models, previous_break, processing_mask, variogram)\u001b[0m\n\u001b[1;32m    487\u001b[0m                               for idx in range(observations.shape[0])]\n\u001b[1;32m    488\u001b[0m \u001b[1;33m\u001b[0m\u001b[0m\n\u001b[0;32m--> 489\u001b[0;31m         \u001b[0mmagnitudes\u001b[0m \u001b[1;33m=\u001b[0m \u001b[0mchange_magnitudes\u001b[0m\u001b[1;33m(\u001b[0m\u001b[0mmedian_differences\u001b[0m\u001b[1;33m,\u001b[0m \u001b[0mvariogram\u001b[0m\u001b[1;33m,\u001b[0m \u001b[0mmodels\u001b[0m\u001b[1;33m)\u001b[0m\u001b[1;33m\u001b[0m\u001b[0m\n\u001b[0m\u001b[1;32m    490\u001b[0m \u001b[1;33m\u001b[0m\u001b[0m\n\u001b[1;32m    491\u001b[0m         \u001b[1;32mif\u001b[0m \u001b[0mdetect_change\u001b[0m\u001b[1;33m(\u001b[0m\u001b[0mmagnitudes\u001b[0m\u001b[1;33m)\u001b[0m\u001b[1;33m:\u001b[0m\u001b[1;33m\u001b[0m\u001b[0m\n",
      "\u001b[0;32md:\\lcmap\\lcmap-pyccd\\ccd\\change.py\u001b[0m in \u001b[0;36mchange_magnitudes\u001b[0;34m(median_resids, models, variogram, detection_bands, comparison_rmse)\u001b[0m\n\u001b[1;32m     69\u001b[0m     \u001b[1;32melse\u001b[0m\u001b[1;33m:\u001b[0m\u001b[1;33m\u001b[0m\u001b[0m\n\u001b[1;32m     70\u001b[0m         rmse = [max(models[idx].rmse, variogram[idx])\n\u001b[0;32m---> 71\u001b[0;31m                 for idx in range(variogram.shape[0])]\n\u001b[0m\u001b[1;32m     72\u001b[0m \u001b[1;33m\u001b[0m\u001b[0m\n\u001b[1;32m     73\u001b[0m     \u001b[0mmagnitudes\u001b[0m \u001b[1;33m=\u001b[0m \u001b[0mmedian_resids\u001b[0m\u001b[1;33m[\u001b[0m\u001b[0mdetection_bands\u001b[0m\u001b[1;33m]\u001b[0m \u001b[1;33m/\u001b[0m \u001b[0mrmse\u001b[0m\u001b[1;33m[\u001b[0m\u001b[0mdetection_bands\u001b[0m\u001b[1;33m]\u001b[0m\u001b[1;33m\u001b[0m\u001b[0m\n",
      "\u001b[0;31mAttributeError\u001b[0m: 'list' object has no attribute 'shape'"
     ]
    }
   ],
   "source": [
    "test_validate_sample_2_detection_results()"
   ]
  }
 ],
 "metadata": {
  "anaconda-cloud": {},
  "kernelspec": {
   "display_name": "Python [conda env:lcmap-pyccd]",
   "language": "python",
   "name": "conda-env-lcmap-pyccd-py"
  },
  "language_info": {
   "codemirror_mode": {
    "name": "ipython",
    "version": 3
   },
   "file_extension": ".py",
   "mimetype": "text/x-python",
   "name": "python",
   "nbconvert_exporter": "python",
   "pygments_lexer": "ipython3",
   "version": "3.5.2"
  }
 },
 "nbformat": 4,
 "nbformat_minor": 0
}

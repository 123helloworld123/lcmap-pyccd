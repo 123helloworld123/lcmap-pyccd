{
 "cells": [
  {
   "cell_type": "code",
   "execution_count": 1,
   "metadata": {
    "collapsed": true
   },
   "outputs": [],
   "source": [
    "# import os\n",
    "# import sys\n",
    "# module_path = os.path.abspath(os.path.join('..'))\n",
    "# if module_path not in sys.path:\n",
    "#     sys.path.append(module_path)\n",
    "import cProfile"
   ]
  },
  {
   "cell_type": "code",
   "execution_count": 2,
   "metadata": {
    "collapsed": true
   },
   "outputs": [],
   "source": [
    "import numpy as np\n",
    "from pprint import pprint"
   ]
  },
  {
   "cell_type": "code",
   "execution_count": 3,
   "metadata": {
    "collapsed": false
   },
   "outputs": [],
   "source": [
    "import ccd\n",
    "import test\n",
    "from test.shared import sample_line, sample_sinusoid, read_data\n",
    "import ccd.procedures as change\n",
    "from ccd.models import lasso"
   ]
  },
  {
   "cell_type": "code",
   "execution_count": 4,
   "metadata": {
    "collapsed": true
   },
   "outputs": [],
   "source": [
    "def test_validate_sample_2_detection_results():\n",
    "    \"\"\" Sample 2 contains two changes and should test the full path through\n",
    "    the algorithm\"\"\"\n",
    "    data = read_data(\"test/resources/sample_WA_grid08_row999_col1_normal.csv\")\n",
    "    results = ccd.detect(data[0], data[1], data[2], data[3], data[4],\n",
    "                         data[5], data[6], data[7], data[8])\n",
    "    print(len(results['change_models']))"
   ]
  },
  {
   "cell_type": "code",
   "execution_count": 5,
   "metadata": {
    "collapsed": false
   },
   "outputs": [
    {
     "name": "stdout",
     "output_type": "stream",
     "text": [
      "2017-01-07 10:31:17 procedures::fit_procedure        - [62 ]Procedure selected: standard_procedure\n",
      "2017-01-07 10:31:17 procedures::standard_procedure   - [216]Build change models – dates: 724, obs: (7, 724), meow_size: 12, peek_size: 6\n",
      "2017-01-07 10:31:17 procedures::standard_procedure   - [228]Processing mask initial count: 477\n",
      "2017-01-07 10:31:17 procedures::standard_procedure   - [244]Variogram values: [  95.    95.5  133.   315.   199.   152.   395. ]\n",
      "2017-01-07 10:31:17 procedures::standard_procedure   - [249]Initialize for change model #: 1\n",
      "2017-01-07 10:31:17 change    ::initialize           - [278]Initial slice(0, 12, None)\n",
      "2017-01-07 10:31:17 change    ::find_time_index      - [159]Sufficient time from times[0..12] (day #724746 to #725114)\n",
      "2017-01-07 10:31:17 change    ::initialize           - [288]Checking window: slice(0, 12, None)\n",
      "2017-01-07 10:31:17 change    ::initialize           - [296]Number of Tmask outliers found: 0\n",
      "2017-01-07 10:31:17 change    ::initialize           - [321]Generating models to check for stability\n",
      "2017-01-07 10:31:17 change    ::stable               - [44 ]Stability norm: 51.3737595469, Check against: 15.086272469388987\n",
      "2017-01-07 10:31:17 change    ::initialize           - [328]Unstable model, shift window to: slice(1, 13, None)\n",
      "2017-01-07 10:31:17 change    ::find_time_index      - [159]Sufficient time from times[1..15] (day #724794 to #725169)\n",
      "2017-01-07 10:31:17 change    ::initialize           - [288]Checking window: slice(1, 15, None)\n",
      "2017-01-07 10:31:17 change    ::initialize           - [296]Number of Tmask outliers found: 0\n",
      "2017-01-07 10:31:17 change    ::initialize           - [321]Generating models to check for stability\n",
      "2017-01-07 10:31:17 change    ::stable               - [44 ]Stability norm: 21.2347084426, Check against: 15.086272469388987\n",
      "2017-01-07 10:31:17 change    ::initialize           - [328]Unstable model, shift window to: slice(2, 16, None)\n",
      "2017-01-07 10:31:17 change    ::find_time_index      - [159]Sufficient time from times[2..16] (day #724817 to #725210)\n",
      "2017-01-07 10:31:17 change    ::initialize           - [288]Checking window: slice(2, 16, None)\n",
      "2017-01-07 10:31:17 change    ::initialize           - [296]Number of Tmask outliers found: 0\n",
      "2017-01-07 10:31:17 change    ::initialize           - [321]Generating models to check for stability\n",
      "2017-01-07 10:31:17 change    ::stable               - [44 ]Stability norm: 32.6156593543, Check against: 15.086272469388987\n",
      "2017-01-07 10:31:17 change    ::initialize           - [328]Unstable model, shift window to: slice(3, 17, None)\n",
      "2017-01-07 10:31:17 change    ::find_time_index      - [159]Sufficient time from times[3..17] (day #724833 to #725217)\n",
      "2017-01-07 10:31:17 change    ::initialize           - [288]Checking window: slice(3, 17, None)\n",
      "2017-01-07 10:31:17 change    ::initialize           - [296]Number of Tmask outliers found: 0\n",
      "2017-01-07 10:31:17 change    ::initialize           - [321]Generating models to check for stability\n",
      "2017-01-07 10:31:17 change    ::stable               - [44 ]Stability norm: 9.59258741112, Check against: 15.086272469388987\n",
      "2017-01-07 10:31:17 change    ::initialize           - [331]Stable start found: slice(3, 17, None)\n",
      "2017-01-07 10:31:17 change    ::lookback             - [476]Previous break: 0 model window: slice(3, 17, None)\n",
      "2017-01-07 10:31:17 change    ::lookback             - [491]Considering index: 2 using peek window: slice(0, 3, None)\n",
      "2017-01-07 10:31:17 change    ::lookback             - [498]Residuals for peek window: [[ 139.79042017   27.84944612   74.75948156]\n",
      " [ 180.67116829   26.19241115   76.61179094]\n",
      " [ 218.00497675  154.85631152  247.45949689]\n",
      " [ 752.66831036  689.18226121  857.38944945]\n",
      " [ 220.08886729  508.87777996  564.38993219]\n",
      " [ 169.0199382   211.91948179  517.75819203]\n",
      " [ 532.05528183  714.99697496  564.56359739]]\n",
      "2017-01-07 10:31:17 change    ::lookback             - [502]RMSE values for comparison: [112.17555954760883, 178.82158256589162, 401.53091266977066, 305.93815537590439, 325.27435547041284]\n",
      "2017-01-07 10:31:17 change    ::change_magnitude     - [71 ]Magnitudes of change: [  8.38158798   6.94157791  12.87787273]\n",
      "2017-01-07 10:31:17 change    ::lookback             - [519]Including index: 2\n",
      "2017-01-07 10:31:17 change    ::lookback             - [491]Considering index: 1 using peek window: slice(0, 2, None)\n",
      "2017-01-07 10:31:17 change    ::lookback             - [498]Residuals for peek window: [[ 139.79042017   27.84944612]\n",
      " [ 180.67116829   26.19241115]\n",
      " [ 218.00497675  154.85631152]\n",
      " [ 752.66831036  689.18226121]\n",
      " [ 220.08886729  508.87777996]\n",
      " [ 169.0199382   211.91948179]\n",
      " [ 532.05528183  714.99697496]]\n",
      "2017-01-07 10:31:17 change    ::lookback             - [502]RMSE values for comparison: [112.17555954760883, 178.82158256589162, 401.53091266977066, 305.93815537590439, 325.27435547041284]\n",
      "2017-01-07 10:31:17 change    ::change_magnitude     - [71 ]Magnitudes of change: [ 8.38158798  6.94157791]\n",
      "2017-01-07 10:31:17 change    ::lookback             - [519]Including index: 1\n",
      "2017-01-07 10:31:17 change    ::lookback             - [491]Considering index: 0 using peek window: slice(0, 1, None)\n",
      "2017-01-07 10:31:17 change    ::lookback             - [498]Residuals for peek window: [[ 139.79042017]\n",
      " [ 180.67116829]\n",
      " [ 218.00497675]\n",
      " [ 752.66831036]\n",
      " [ 220.08886729]\n",
      " [ 169.0199382 ]\n",
      " [ 532.05528183]]\n",
      "2017-01-07 10:31:17 change    ::lookback             - [502]RMSE values for comparison: [112.17555954760883, 178.82158256589162, 401.53091266977066, 305.93815537590439, 325.27435547041284]\n",
      "2017-01-07 10:31:17 change    ::change_magnitude     - [71 ]Magnitudes of change: [ 8.38158798]\n",
      "2017-01-07 10:31:17 change    ::lookback             - [519]Including index: 0\n",
      "2017-01-07 10:31:17 procedures::standard_procedure   - [295]Extend change model\n",
      "2017-01-07 10:31:17 change    ::build                - [359]Change detection started for: slice(0, 17, None)\n",
      "2017-01-07 10:31:17 change    ::build                - [384]Detecting change for slice(17, 23, None)\n",
      "2017-01-07 10:31:17 change    ::build                - [391]Retrain models, less than 24 samples\n",
      "2017-01-07 10:31:17 change    ::change_magnitude     - [71 ]Magnitudes of change: [    8.88412214  3190.17034636    37.84706516    25.78784927    38.90940674\n",
      "    19.51859868]\n",
      "2017-01-07 10:31:17 change    ::build                - [384]Detecting change for slice(18, 24, None)\n",
      "2017-01-07 10:31:17 change    ::build                - [391]Retrain models, less than 24 samples\n",
      "2017-01-07 10:31:17 change    ::change_magnitude     - [71 ]Magnitudes of change: [ 5335.93361052   108.35633379    32.0841308     50.39233028    39.04194546\n",
      "    57.82514653]\n"
     ]
    },
    {
     "ename": "TypeError",
     "evalue": "'NoneType' object is not subscriptable",
     "output_type": "error",
     "traceback": [
      "\u001b[0;31m---------------------------------------------------------------------------\u001b[0m",
      "\u001b[0;31mTypeError\u001b[0m                                 Traceback (most recent call last)",
      "\u001b[0;32m<ipython-input-5-562f068ab561>\u001b[0m in \u001b[0;36m<module>\u001b[0;34m()\u001b[0m\n\u001b[0;32m----> 1\u001b[0;31m \u001b[0mtest_validate_sample_2_detection_results\u001b[0m\u001b[1;33m(\u001b[0m\u001b[1;33m)\u001b[0m\u001b[1;33m\u001b[0m\u001b[0m\n\u001b[0m",
      "\u001b[0;32m<ipython-input-4-342e9d9c0051>\u001b[0m in \u001b[0;36mtest_validate_sample_2_detection_results\u001b[0;34m()\u001b[0m\n\u001b[1;32m      4\u001b[0m     \u001b[0mdata\u001b[0m \u001b[1;33m=\u001b[0m \u001b[0mread_data\u001b[0m\u001b[1;33m(\u001b[0m\u001b[1;34m\"test/resources/sample_WA_grid08_row999_col1_normal.csv\"\u001b[0m\u001b[1;33m)\u001b[0m\u001b[1;33m\u001b[0m\u001b[0m\n\u001b[1;32m      5\u001b[0m     results = ccd.detect(data[0], data[1], data[2], data[3], data[4],\n\u001b[0;32m----> 6\u001b[0;31m                          data[5], data[6], data[7], data[8])\n\u001b[0m\u001b[1;32m      7\u001b[0m     \u001b[0mprint\u001b[0m\u001b[1;33m(\u001b[0m\u001b[0mlen\u001b[0m\u001b[1;33m(\u001b[0m\u001b[0mresults\u001b[0m\u001b[1;33m[\u001b[0m\u001b[1;34m'change_models'\u001b[0m\u001b[1;33m]\u001b[0m\u001b[1;33m)\u001b[0m\u001b[1;33m)\u001b[0m\u001b[1;33m\u001b[0m\u001b[0m\n",
      "\u001b[0;32md:\\lcmap\\lcmap-pyccd\\ccd\\__init__.py\u001b[0m in \u001b[0;36mdetect\u001b[0;34m(dates, reds, greens, blues, nirs, swir1s, swir2s, thermals, quality)\u001b[0m\n\u001b[1;32m    127\u001b[0m     \u001b[0mprocedure\u001b[0m \u001b[1;33m=\u001b[0m \u001b[0m__determine_fit_procedure\u001b[0m\u001b[1;33m(\u001b[0m\u001b[0mquality\u001b[0m\u001b[1;33m)\u001b[0m\u001b[1;33m\u001b[0m\u001b[0m\n\u001b[1;32m    128\u001b[0m \u001b[1;33m\u001b[0m\u001b[0m\n\u001b[0;32m--> 129\u001b[0;31m     \u001b[0mresults\u001b[0m \u001b[1;33m=\u001b[0m \u001b[0mprocedure\u001b[0m\u001b[1;33m(\u001b[0m\u001b[0mdates\u001b[0m\u001b[1;33m,\u001b[0m \u001b[0mspectra\u001b[0m\u001b[1;33m,\u001b[0m \u001b[0mfitter_fn\u001b[0m\u001b[1;33m,\u001b[0m \u001b[0mquality\u001b[0m\u001b[1;33m)\u001b[0m\u001b[1;33m\u001b[0m\u001b[0m\n\u001b[0m\u001b[1;32m    130\u001b[0m     \u001b[0mlogger\u001b[0m\u001b[1;33m.\u001b[0m\u001b[0mdebug\u001b[0m\u001b[1;33m(\u001b[0m\u001b[1;34m'Total time for algorithm: %s'\u001b[0m\u001b[1;33m,\u001b[0m \u001b[0mtime\u001b[0m\u001b[1;33m.\u001b[0m\u001b[0mtime\u001b[0m\u001b[1;33m(\u001b[0m\u001b[1;33m)\u001b[0m \u001b[1;33m-\u001b[0m \u001b[0mt1\u001b[0m\u001b[1;33m)\u001b[0m\u001b[1;33m\u001b[0m\u001b[0m\n\u001b[1;32m    131\u001b[0m \u001b[1;33m\u001b[0m\u001b[0m\n",
      "\u001b[0;32md:\\lcmap\\lcmap-pyccd\\ccd\\procedures.py\u001b[0m in \u001b[0;36mstandard_procedure\u001b[0;34m(dates, observations, fitter_fn, quality, meow_size, peek_size, thermal_idx, day_delta)\u001b[0m\n\u001b[1;32m    309\u001b[0m                                         \u001b[0mobservation_count\u001b[0m\u001b[1;33m=\u001b[0m\u001b[1;33m(\u001b[0m\u001b[0mmodel_window\u001b[0m\u001b[1;33m.\u001b[0m\u001b[0mstop\u001b[0m \u001b[1;33m-\u001b[0m \u001b[0mmodel_window\u001b[0m\u001b[1;33m.\u001b[0m\u001b[0mstart\u001b[0m\u001b[1;33m)\u001b[0m\u001b[1;33m,\u001b[0m\u001b[1;33m\u001b[0m\u001b[0m\n\u001b[1;32m    310\u001b[0m                                         \u001b[0mchange_probability\u001b[0m\u001b[1;33m=\u001b[0m\u001b[0mchange\u001b[0m\u001b[1;33m,\u001b[0m\u001b[1;33m\u001b[0m\u001b[0m\n\u001b[0;32m--> 311\u001b[0;31m                                         num_coefficients=4)\n\u001b[0m\u001b[1;32m    312\u001b[0m         \u001b[0mresults\u001b[0m\u001b[1;33m.\u001b[0m\u001b[0mappend\u001b[0m\u001b[1;33m(\u001b[0m\u001b[0mresult\u001b[0m\u001b[1;33m)\u001b[0m\u001b[1;33m\u001b[0m\u001b[0m\n\u001b[1;32m    313\u001b[0m \u001b[1;33m\u001b[0m\u001b[0m\n",
      "\u001b[0;32md:\\lcmap\\lcmap-pyccd\\ccd\\models\\__init__.py\u001b[0m in \u001b[0;36mresults_to_changemodel\u001b[0;34m(fitted_models, start_day, end_day, break_day, magnitudes, observation_count, change_probability, num_coefficients)\u001b[0m\n\u001b[1;32m     83\u001b[0m     \u001b[0mspectral_models\u001b[0m \u001b[1;33m=\u001b[0m \u001b[1;33m[\u001b[0m\u001b[1;33m]\u001b[0m\u001b[1;33m\u001b[0m\u001b[0m\n\u001b[1;32m     84\u001b[0m     \u001b[1;32mfor\u001b[0m \u001b[0mix\u001b[0m\u001b[1;33m,\u001b[0m \u001b[0mmodel\u001b[0m \u001b[1;32min\u001b[0m \u001b[0menumerate\u001b[0m\u001b[1;33m(\u001b[0m\u001b[0mfitted_models\u001b[0m\u001b[1;33m)\u001b[0m\u001b[1;33m:\u001b[0m\u001b[1;33m\u001b[0m\u001b[0m\n\u001b[0;32m---> 85\u001b[0;31m         spectral = SpectralModel(magnitude=magnitudes[ix],\n\u001b[0m\u001b[1;32m     86\u001b[0m                                  \u001b[0mrmse\u001b[0m\u001b[1;33m=\u001b[0m\u001b[0mmodel\u001b[0m\u001b[1;33m.\u001b[0m\u001b[0mrmse\u001b[0m\u001b[1;33m,\u001b[0m\u001b[1;33m\u001b[0m\u001b[0m\n\u001b[1;32m     87\u001b[0m                                  \u001b[0mcoefficients\u001b[0m\u001b[1;33m=\u001b[0m\u001b[0mmodel\u001b[0m\u001b[1;33m.\u001b[0m\u001b[0mfitted_model\u001b[0m\u001b[1;33m.\u001b[0m\u001b[0mcoef_\u001b[0m\u001b[1;33m,\u001b[0m\u001b[1;33m\u001b[0m\u001b[0m\n",
      "\u001b[0;31mTypeError\u001b[0m: 'NoneType' object is not subscriptable"
     ]
    }
   ],
   "source": [
    "test_validate_sample_2_detection_results()"
   ]
  },
  {
   "cell_type": "code",
   "execution_count": null,
   "metadata": {
    "collapsed": false
   },
   "outputs": [],
   "source": [
    "a = np.arange(10).reshape(2, -1)\n",
    "print(a ** 2)\n",
    "print(np.sum(a ** 2, axis=0))"
   ]
  }
 ],
 "metadata": {
  "anaconda-cloud": {},
  "kernelspec": {
   "display_name": "Python [conda env:lcmap-pyccd]",
   "language": "python",
   "name": "conda-env-lcmap-pyccd-py"
  },
  "language_info": {
   "codemirror_mode": {
    "name": "ipython",
    "version": 3
   },
   "file_extension": ".py",
   "mimetype": "text/x-python",
   "name": "python",
   "nbconvert_exporter": "python",
   "pygments_lexer": "ipython3",
   "version": "3.5.2"
  }
 },
 "nbformat": 4,
 "nbformat_minor": 0
}

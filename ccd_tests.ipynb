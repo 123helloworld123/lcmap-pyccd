{
 "cells": [
  {
   "cell_type": "code",
   "execution_count": 1,
   "metadata": {
    "collapsed": true
   },
   "outputs": [],
   "source": [
    "# import os\n",
    "# import sys\n",
    "# module_path = os.path.abspath(os.path.join('..'))\n",
    "# if module_path not in sys.path:\n",
    "#     sys.path.append(module_path)"
   ]
  },
  {
   "cell_type": "code",
   "execution_count": 2,
   "metadata": {
    "collapsed": true
   },
   "outputs": [],
   "source": [
    "import numpy as np"
   ]
  },
  {
   "cell_type": "code",
   "execution_count": 3,
   "metadata": {
    "collapsed": false
   },
   "outputs": [],
   "source": [
    "import ccd\n",
    "import test\n",
    "from test.shared import sample_line, sample_sinusoid, read_data\n",
    "import ccd.procedures as change\n",
    "from ccd.models import lasso"
   ]
  },
  {
   "cell_type": "code",
   "execution_count": 4,
   "metadata": {
    "collapsed": true
   },
   "outputs": [],
   "source": [
    "def test_validate_sample_2_detection_results():\n",
    "    \"\"\" Sample 2 contains two changes and should test the full path through\n",
    "    the algorithm\"\"\"\n",
    "    data = read_data(\"test/resources/sample_2.csv\")\n",
    "    results = ccd.detect(data[0], data[1], data[2], data[3], data[4],\n",
    "                         data[5], data[6], data[7], data[8])\n",
    "    assert len(results) != 2, \"expected: !{}, actual: {}\".format(2,\n",
    "                                                                 len(results))"
   ]
  },
  {
   "cell_type": "code",
   "execution_count": 5,
   "metadata": {
    "collapsed": false
   },
   "outputs": [
    {
     "name": "stdout",
     "output_type": "stream",
     "text": [
      "2016-12-22 21:28:19 procedures::fit_procedure        - [62 ]Procedure selected: standard_procedure\n",
      "2016-12-22 21:28:19 procedures::standard_procedure   - [200]Build change models – dates: 724, obs: (7, 724), meow_size: 12, peek_size: 6\n",
      "2016-12-22 21:28:19 procedures::standard_procedure   - [213]Processing mask initial count: 477\n",
      "2016-12-22 21:28:19 procedures::standard_procedure   - [234]Variogram values: [  95.    95.5  133.   315.   199.   152.   395. ]\n",
      "2016-12-22 21:28:19 procedures::standard_procedure   - [257]Initialize for change model #: 1\n",
      "2016-12-22 21:28:19 change    ::initialize           - [285]Initial slice(0, 12, None)\n",
      "2016-12-22 21:28:19 change    ::find_time_index      - [169]Sufficient time from times[0..12] (day #724746 to #725114)\n",
      "2016-12-22 21:28:19 change    ::initialize           - [295]Checking window: slice(0, 12, None)\n",
      "2016-12-22 21:28:19 change    ::initialize           - [306]Number of Tmask outliers found: 0\n",
      "2016-12-22 21:28:19 change    ::initialize           - [323]Generating models to check for stability\n",
      "2016-12-22 21:28:19 change    ::stable               - [44 ]Stability norm: 51.7234138844, Check against: 16.811893829770927\n",
      "2016-12-22 21:28:19 change    ::initialize           - [330]Unstable model, shift window to: slice(1, 13, None)\n",
      "2016-12-22 21:28:19 change    ::find_time_index      - [169]Sufficient time from times[1..15] (day #724794 to #725169)\n",
      "2016-12-22 21:28:19 change    ::initialize           - [295]Checking window: slice(1, 15, None)\n",
      "2016-12-22 21:28:19 change    ::initialize           - [306]Number of Tmask outliers found: 0\n",
      "2016-12-22 21:28:19 change    ::initialize           - [323]Generating models to check for stability\n",
      "2016-12-22 21:28:19 change    ::stable               - [44 ]Stability norm: 21.2353635903, Check against: 16.811893829770927\n",
      "2016-12-22 21:28:19 change    ::initialize           - [330]Unstable model, shift window to: slice(2, 16, None)\n",
      "2016-12-22 21:28:19 change    ::find_time_index      - [169]Sufficient time from times[2..16] (day #724817 to #725210)\n",
      "2016-12-22 21:28:19 change    ::initialize           - [295]Checking window: slice(2, 16, None)\n",
      "2016-12-22 21:28:19 change    ::initialize           - [306]Number of Tmask outliers found: 0\n",
      "2016-12-22 21:28:19 change    ::initialize           - [323]Generating models to check for stability\n",
      "2016-12-22 21:28:19 change    ::stable               - [44 ]Stability norm: 32.6156066688, Check against: 16.811893829770927\n",
      "2016-12-22 21:28:19 change    ::initialize           - [330]Unstable model, shift window to: slice(3, 17, None)\n",
      "2016-12-22 21:28:19 change    ::find_time_index      - [169]Sufficient time from times[3..17] (day #724833 to #725217)\n",
      "2016-12-22 21:28:19 change    ::initialize           - [295]Checking window: slice(3, 17, None)\n",
      "2016-12-22 21:28:19 change    ::initialize           - [306]Number of Tmask outliers found: 0\n",
      "2016-12-22 21:28:19 change    ::initialize           - [312]Insufficient time or observations after Tmask, extending model window\n",
      "2016-12-22 21:28:19 change    ::find_time_index      - [169]Sufficient time from times[3..18] (day #724833 to #725242)\n",
      "2016-12-22 21:28:19 change    ::initialize           - [295]Checking window: slice(3, 18, None)\n",
      "2016-12-22 21:28:19 change    ::initialize           - [306]Number of Tmask outliers found: 0\n",
      "2016-12-22 21:28:19 change    ::initialize           - [323]Generating models to check for stability\n",
      "2016-12-22 21:28:19 change    ::stable               - [44 ]Stability norm: 7.68214465445, Check against: 16.811893829770927\n",
      "2016-12-22 21:28:19 change    ::initialize           - [333]Stable start found: slice(3, 18, None)\n",
      "2016-12-22 21:28:19 change    ::lookback             - [472]Previous break: 0 model window: slice(3, 18, None)\n",
      "2016-12-22 21:28:19 change    ::lookback             - [487]Considering index: 2 using peek window: slice(0, 3, None)\n",
      "2016-12-22 21:28:19 change    ::change_magnitude     - [78 ]Magnitude of change: 11.1671383095\n",
      "2016-12-22 21:28:19 change    ::lookback             - [507]Including index: 2\n",
      "2016-12-22 21:28:19 change    ::lookback             - [487]Considering index: 1 using peek window: slice(0, 2, None)\n",
      "2016-12-22 21:28:19 change    ::change_magnitude     - [78 ]Magnitude of change: 9.37477101424\n",
      "2016-12-22 21:28:19 change    ::lookback             - [507]Including index: 1\n",
      "2016-12-22 21:28:19 change    ::lookback             - [487]Considering index: 0 using peek window: slice(0, 1, None)\n",
      "2016-12-22 21:28:19 change    ::change_magnitude     - [78 ]Magnitude of change: 10.8959397153\n",
      "2016-12-22 21:28:19 change    ::lookback             - [507]Including index: 0\n",
      "2016-12-22 21:28:19 procedures::standard_procedure   - [301]Extend change model\n",
      "2016-12-22 21:28:19 change    ::build                - [361]Change detection started for: slice(0, 18, None)\n",
      "2016-12-22 21:28:19 change    ::change_magnitude     - [78 ]Magnitude of change: 33.0310844889\n",
      "2016-12-22 21:28:19 change    ::build                - [432]Detecting change for slice(18, 24, None)\n",
      "2016-12-22 21:28:19 procedures::standard_procedure   - [320]Accumulate results, 1 so far\n",
      "2016-12-22 21:28:19 procedures::standard_procedure   - [257]Initialize for change model #: 2\n",
      "2016-12-22 21:28:19 change    ::initialize           - [285]Initial slice(18, 30, None)\n",
      "2016-12-22 21:28:19 change    ::find_time_index      - [169]Sufficient time from times[18..30] (day #725242 to #725658)\n",
      "2016-12-22 21:28:19 change    ::initialize           - [295]Checking window: slice(18, 30, None)\n",
      "2016-12-22 21:28:19 change    ::initialize           - [306]Number of Tmask outliers found: 7\n"
     ]
    },
    {
     "name": "stderr",
     "output_type": "stream",
     "text": [
      "C:\\Users\\Kelcy\\Miniconda3\\envs\\lcmap-pyccd\\lib\\site-packages\\sklearn\\linear_model\\coordinate_descent.py:484: ConvergenceWarning: Objective did not converge. You might want to increase the number of iterations. Fitting data with very small alpha may cause precision problems.\n",
      "  ConvergenceWarning)\n"
     ]
    },
    {
     "ename": "IndexError",
     "evalue": "index 18 is out of bounds for axis 0 with size 5",
     "output_type": "error",
     "traceback": [
      "\u001b[0;31m---------------------------------------------------------------------------\u001b[0m",
      "\u001b[0;31mIndexError\u001b[0m                                Traceback (most recent call last)",
      "\u001b[0;32m<ipython-input-5-562f068ab561>\u001b[0m in \u001b[0;36m<module>\u001b[0;34m()\u001b[0m\n\u001b[0;32m----> 1\u001b[0;31m \u001b[0mtest_validate_sample_2_detection_results\u001b[0m\u001b[1;33m(\u001b[0m\u001b[1;33m)\u001b[0m\u001b[1;33m\u001b[0m\u001b[0m\n\u001b[0m",
      "\u001b[0;32m<ipython-input-4-ef0ed2d15ee2>\u001b[0m in \u001b[0;36mtest_validate_sample_2_detection_results\u001b[0;34m()\u001b[0m\n\u001b[1;32m      4\u001b[0m     \u001b[0mdata\u001b[0m \u001b[1;33m=\u001b[0m \u001b[0mread_data\u001b[0m\u001b[1;33m(\u001b[0m\u001b[1;34m\"test/resources/sample_2.csv\"\u001b[0m\u001b[1;33m)\u001b[0m\u001b[1;33m\u001b[0m\u001b[0m\n\u001b[1;32m      5\u001b[0m     results = ccd.detect(data[0], data[1], data[2], data[3], data[4],\n\u001b[0;32m----> 6\u001b[0;31m                          data[5], data[6], data[7], data[8])\n\u001b[0m\u001b[1;32m      7\u001b[0m     assert len(results) != 2, \"expected: !{}, actual: {}\".format(2,\n\u001b[1;32m      8\u001b[0m                                                                  len(results))\n",
      "\u001b[0;32md:\\lcmap\\lcmap-pyccd\\ccd\\__init__.py\u001b[0m in \u001b[0;36mdetect\u001b[0;34m(dates, reds, greens, blues, nirs, swir1s, swir2s, thermals, quality)\u001b[0m\n\u001b[1;32m    125\u001b[0m \u001b[1;33m\u001b[0m\u001b[0m\n\u001b[1;32m    126\u001b[0m     \u001b[1;31m# call detect and return results as the detections namedtuple\u001b[0m\u001b[1;33m\u001b[0m\u001b[1;33m\u001b[0m\u001b[0m\n\u001b[0;32m--> 127\u001b[0;31m     \u001b[1;32mreturn\u001b[0m \u001b[0m__attach_metadata\u001b[0m\u001b[1;33m(\u001b[0m\u001b[0mprocedure\u001b[0m\u001b[1;33m(\u001b[0m\u001b[0mdates\u001b[0m\u001b[1;33m,\u001b[0m \u001b[0mspectra\u001b[0m\u001b[1;33m,\u001b[0m \u001b[0mfitter_fn\u001b[0m\u001b[1;33m,\u001b[0m \u001b[0mquality\u001b[0m\u001b[1;33m)\u001b[0m\u001b[1;33m,\u001b[0m \u001b[0mprocedure\u001b[0m\u001b[1;33m)\u001b[0m\u001b[1;33m\u001b[0m\u001b[0m\n\u001b[0m",
      "\u001b[0;32md:\\lcmap\\lcmap-pyccd\\ccd\\procedures.py\u001b[0m in \u001b[0;36mstandard_procedure\u001b[0;34m(dates, observations, fitter_fn, quality, meow_size, peek_size, thermal_idx, day_delta)\u001b[0m\n\u001b[1;32m    259\u001b[0m                                                \u001b[0mmodel_window\u001b[0m\u001b[1;33m,\u001b[0m \u001b[0mmeow_size\u001b[0m\u001b[1;33m,\u001b[0m\u001b[1;33m\u001b[0m\u001b[0m\n\u001b[1;32m    260\u001b[0m                                                \u001b[0mpeek_size\u001b[0m\u001b[1;33m,\u001b[0m \u001b[0mprocessing_mask\u001b[0m\u001b[1;33m,\u001b[0m\u001b[1;33m\u001b[0m\u001b[0m\n\u001b[0;32m--> 261\u001b[0;31m                                                variogram)\n\u001b[0m\u001b[1;32m    262\u001b[0m \u001b[1;33m\u001b[0m\u001b[0m\n\u001b[1;32m    263\u001b[0m         \u001b[1;32mif\u001b[0m \u001b[0minit_models\u001b[0m \u001b[1;32mis\u001b[0m \u001b[1;32mNone\u001b[0m\u001b[1;33m:\u001b[0m\u001b[1;33m\u001b[0m\u001b[0m\n",
      "\u001b[0;32md:\\lcmap\\lcmap-pyccd\\ccd\\change.py\u001b[0m in \u001b[0;36minitialize\u001b[0;34m(dates, observations, fitter_fn, model_window, meow_size, peek_size, processing_mask, variogram, day_delta)\u001b[0m\n\u001b[1;32m    307\u001b[0m \u001b[1;33m\u001b[0m\u001b[0m\n\u001b[1;32m    308\u001b[0m         \u001b[1;31m# Make sure we still have enough observations and enough time\u001b[0m\u001b[1;33m\u001b[0m\u001b[1;33m\u001b[0m\u001b[0m\n\u001b[0;32m--> 309\u001b[0;31m         if (not enough_time(model_period[~tmask_outliers], model_window, day_delta)\n\u001b[0m\u001b[1;32m    310\u001b[0m             or not enough_samples(model_period[~tmask_outliers], model_window)):\n\u001b[1;32m    311\u001b[0m \u001b[1;33m\u001b[0m\u001b[0m\n",
      "\u001b[0;32md:\\lcmap\\lcmap-pyccd\\ccd\\change.py\u001b[0m in \u001b[0;36menough_time\u001b[0;34m(dates, window, day_delta)\u001b[0m\n\u001b[1;32m    207\u001b[0m         \u001b[0mlist\u001b[0m\u001b[1;33m:\u001b[0m \u001b[1;32mTrue\u001b[0m \u001b[1;32mif\u001b[0m \u001b[0mthe\u001b[0m \u001b[0mrepresented\u001b[0m \u001b[0mtime\u001b[0m \u001b[0mspan\u001b[0m \u001b[1;32mis\u001b[0m \u001b[0mgreater\u001b[0m \u001b[0mthan\u001b[0m \u001b[0mday_delta\u001b[0m\u001b[1;33m\u001b[0m\u001b[0m\n\u001b[1;32m    208\u001b[0m     \"\"\"\n\u001b[0;32m--> 209\u001b[0;31m     \u001b[1;32mreturn\u001b[0m \u001b[1;33m(\u001b[0m\u001b[0mdates\u001b[0m\u001b[1;33m[\u001b[0m\u001b[1;33m-\u001b[0m\u001b[1;36m1\u001b[0m\u001b[1;33m]\u001b[0m \u001b[1;33m-\u001b[0m \u001b[0mdates\u001b[0m\u001b[1;33m[\u001b[0m\u001b[0mwindow\u001b[0m\u001b[1;33m.\u001b[0m\u001b[0mstart\u001b[0m\u001b[1;33m]\u001b[0m\u001b[1;33m)\u001b[0m \u001b[1;33m>=\u001b[0m \u001b[0mday_delta\u001b[0m\u001b[1;33m\u001b[0m\u001b[0m\n\u001b[0m\u001b[1;32m    210\u001b[0m \u001b[1;33m\u001b[0m\u001b[0m\n\u001b[1;32m    211\u001b[0m \u001b[1;33m\u001b[0m\u001b[0m\n",
      "\u001b[0;31mIndexError\u001b[0m: index 18 is out of bounds for axis 0 with size 5"
     ]
    }
   ],
   "source": [
    "test_validate_sample_2_detection_results()"
   ]
  }
 ],
 "metadata": {
  "anaconda-cloud": {},
  "kernelspec": {
   "display_name": "Python [conda env:lcmap-pyccd]",
   "language": "python",
   "name": "conda-env-lcmap-pyccd-py"
  },
  "language_info": {
   "codemirror_mode": {
    "name": "ipython",
    "version": 3
   },
   "file_extension": ".py",
   "mimetype": "text/x-python",
   "name": "python",
   "nbconvert_exporter": "python",
   "pygments_lexer": "ipython3",
   "version": "3.5.2"
  }
 },
 "nbformat": 4,
 "nbformat_minor": 0
}

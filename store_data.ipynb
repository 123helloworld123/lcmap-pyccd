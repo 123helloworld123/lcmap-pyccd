{
 "cells": [
  {
   "cell_type": "code",
   "execution_count": 1,
   "metadata": {},
   "outputs": [],
   "source": [
    "import json, os\n",
    "import ccd\n",
    "import numpy as np\n",
    "import pandas as pd\n",
    "from datetime import datetime\n",
    "from test.shared import snap, rainbow\n",
    "\n",
    "from numba import jit"
   ]
  },
  {
   "cell_type": "code",
   "execution_count": 2,
   "metadata": {
    "collapsed": true
   },
   "outputs": [],
   "source": [
    "# detect results for x, y: -2094435, 1681005 took 2.455234 seconds to generate  VERIFIED 2.6 seconds locally\n",
    "# detect results for x, y: -2033595, 1685955 took 1.879693 seconds to generate\n",
    "# detect results for x, y: -2098875, 1694895 took 0.986887 seconds to generate  VERIFIED 1.8 seconds locally\n",
    "pixl_x, pixl_y = -2094435, 1681005\n",
    "pixl_x, pixl_y = -2098875, 1694895\n",
    "\n",
    "inputs_url = \"https://lcmaphost.com?x={x}&y={y}&acquired=1982-01-01/2015-12-31\\\n",
    "&ubid=LANDSAT_4/TM/SRB1&ubid=LANDSAT_4/TM/SRB2&ubid=LANDSAT_4/TM/SRB3&ubid=LANDSAT_4/TM/SRB4\\\n",
    "&ubid=LANDSAT_4/TM/SRB5&ubid=LANDSAT_4/TM/BTB6&ubid=LANDSAT_4/TM/SRB7&ubid=LANDSAT_4/TM/PIXELQA\\\n",
    "&ubid=LANDSAT_5/TM/SRB1&ubid=LANDSAT_5/TM/SRB2&ubid=LANDSAT_5/TM/SRB3&ubid=LANDSAT_5/TM/SRB4\\\n",
    "&ubid=LANDSAT_5/TM/SRB5&ubid=LANDSAT_5/TM/BTB6&ubid=LANDSAT_5/TM/SRB7&ubid=LANDSAT_5/TM/PIXELQA\\\n",
    "&ubid=LANDSAT_7/ETM/SRB1&ubid=LANDSAT_7/ETM/SRB2&ubid=LANDSAT_7/ETM/SRB3&ubid=LANDSAT_7/ETM/SRB4\\\n",
    "&ubid=LANDSAT_7/ETM/SRB5&ubid=LANDSAT_7/ETM/BTB6&ubid=LANDSAT_7/ETM/SRB7&ubid=LANDSAT_7/ETM/PIXELQA\\\n",
    "&ubid=LANDSAT_8/OLI_TIRS/SRB2&ubid=LANDSAT_8/OLI_TIRS/SRB3&ubid=LANDSAT_8/OLI_TIRS/SRB4&ubid=LANDSAT_8/OLI_TIRS/SRB5\\\n",
    "&ubid=LANDSAT_8/OLI_TIRS/SRB6&ubid=LANDSAT_8/OLI_TIRS/SRB7&ubid=LANDSAT_8/OLI_TIRS/BTB10\\\n",
    "&ubid=LANDSAT_8/OLI_TIRS/PIXELQA\".format(x=pixl_x, y=pixl_y)\n",
    "\n",
    "dates           = [i.split('=')[1] for i in inputs_url.split('&') if 'acquired=' in i][0]\n",
    "chips_url       = inputs_url.split('?')[0]\n",
    "specs_url       = chips_url.replace('/chips', '/chip-specs')\n",
    "querystr_list   = inputs_url.split('?')[1].split('&')\n",
    "requested_ubids = [i.replace('ubid=', '') for i in querystr_list if 'ubid=' in i]"
   ]
  },
  {
   "cell_type": "code",
   "execution_count": 3,
   "metadata": {
    "collapsed": true
   },
   "outputs": [],
   "source": [
    "# get chip id\n",
    "chip_x, chip_y = snap(pixl_x, pixl_y)\n",
    "xindex = int((pixl_x - chip_x) / 30)\n",
    "yindex = int((chip_y - pixl_y) / 30)\n",
    "rbow = rainbow(-2094585, 1682805, dates, specs_url, chips_url, requested_ubids)"
   ]
  },
  {
   "cell_type": "code",
   "execution_count": 4,
   "metadata": {
    "collapsed": true
   },
   "outputs": [],
   "source": [
    "@jit\n",
    "def dtstr_to_ordinal(dtstr, iso=True):\n",
    "    \"\"\" Return ordinal from string formatted date\"\"\"\n",
    "    _fmt = '%Y-%m-%dT%H:%M:%SZ' if iso else '%Y-%m-%d %H:%M:%S'\n",
    "    _dt = datetime.strptime(dtstr, _fmt)\n",
    "    return _dt.toordinal()"
   ]
  },
  {
   "cell_type": "code",
   "execution_count": 5,
   "metadata": {},
   "outputs": [
    {
     "ename": "IndexError",
     "evalue": "too many indices for array",
     "output_type": "error",
     "traceback": [
      "\u001b[0;31m---------------------------------------------------------------------------\u001b[0m",
      "\u001b[0;31mIndexError\u001b[0m                                Traceback (most recent call last)",
      "\u001b[0;32m<ipython-input-5-880b57306b49>\u001b[0m in \u001b[0;36m<module>\u001b[0;34m()\u001b[0m\n\u001b[1;32m     10\u001b[0m                      \u001b[0mnp\u001b[0m\u001b[0;34m.\u001b[0m\u001b[0marray\u001b[0m\u001b[0;34m(\u001b[0m\u001b[0mrbow\u001b[0m\u001b[0;34m[\u001b[0m\u001b[0;34m'thermal'\u001b[0m\u001b[0;34m]\u001b[0m\u001b[0;34m.\u001b[0m\u001b[0mvalues\u001b[0m\u001b[0;34m[\u001b[0m\u001b[0;34m:\u001b[0m\u001b[0;34m,\u001b[0m \u001b[0mrow\u001b[0m\u001b[0;34m,\u001b[0m \u001b[0mcol\u001b[0m\u001b[0;34m]\u001b[0m\u001b[0;34m)\u001b[0m\u001b[0;34m,\u001b[0m\u001b[0;34m\u001b[0m\u001b[0m\n\u001b[1;32m     11\u001b[0m                      \u001b[0mnp\u001b[0m\u001b[0;34m.\u001b[0m\u001b[0marray\u001b[0m\u001b[0;34m(\u001b[0m\u001b[0mrbow\u001b[0m\u001b[0;34m[\u001b[0m\u001b[0;34m'cfmask'\u001b[0m\u001b[0;34m]\u001b[0m\u001b[0;34m.\u001b[0m\u001b[0mvalues\u001b[0m\u001b[0;34m[\u001b[0m\u001b[0;34m:\u001b[0m\u001b[0;34m,\u001b[0m \u001b[0mrow\u001b[0m\u001b[0;34m,\u001b[0m \u001b[0mcol\u001b[0m\u001b[0;34m]\u001b[0m\u001b[0;34m,\u001b[0m \u001b[0mdtype\u001b[0m\u001b[0;34m=\u001b[0m\u001b[0mint\u001b[0m\u001b[0;34m)\u001b[0m\u001b[0;34m,\u001b[0m\u001b[0;34m\u001b[0m\u001b[0m\n\u001b[0;32m---> 12\u001b[0;31m                      params={})\n\u001b[0m",
      "\u001b[0;32m~/workspace/lcmap-pyccd/ccd/__init__.py\u001b[0m in \u001b[0;36mdetect\u001b[0;34m(dates, blues, greens, reds, nirs, swir1s, swir2s, thermals, quality, params)\u001b[0m\n\u001b[1;32m    173\u001b[0m     \u001b[0;31m#    print(v)\u001b[0m\u001b[0;34m\u001b[0m\u001b[0;34m\u001b[0m\u001b[0m\n\u001b[1;32m    174\u001b[0m \u001b[0;34m\u001b[0m\u001b[0m\n\u001b[0;32m--> 175\u001b[0;31m     \u001b[0mresults\u001b[0m \u001b[0;34m=\u001b[0m \u001b[0mprocedure\u001b[0m\u001b[0;34m(\u001b[0m\u001b[0mdates\u001b[0m\u001b[0;34m,\u001b[0m \u001b[0mspectra\u001b[0m\u001b[0;34m,\u001b[0m \u001b[0mfitter_fn\u001b[0m\u001b[0;34m,\u001b[0m \u001b[0mquality\u001b[0m\u001b[0;34m,\u001b[0m \u001b[0mproc_params\u001b[0m\u001b[0;34m)\u001b[0m\u001b[0;34m\u001b[0m\u001b[0m\n\u001b[0m\u001b[1;32m    176\u001b[0m     \u001b[0mlog\u001b[0m\u001b[0;34m.\u001b[0m\u001b[0mdebug\u001b[0m\u001b[0;34m(\u001b[0m\u001b[0;34m'Total time for algorithm: %s'\u001b[0m\u001b[0;34m,\u001b[0m \u001b[0mtime\u001b[0m\u001b[0;34m.\u001b[0m\u001b[0mtime\u001b[0m\u001b[0;34m(\u001b[0m\u001b[0;34m)\u001b[0m \u001b[0;34m-\u001b[0m \u001b[0mt1\u001b[0m\u001b[0;34m)\u001b[0m\u001b[0;34m\u001b[0m\u001b[0m\n\u001b[1;32m    177\u001b[0m \u001b[0;34m\u001b[0m\u001b[0m\n",
      "\u001b[0;31mIndexError\u001b[0m: too many indices for array"
     ]
    }
   ],
   "source": [
    "row, col = yindex, xindex\n",
    "rainbow_date_array = np.array(rbow['t'].values)\n",
    "result =  ccd.detect([dtstr_to_ordinal(str(pd.to_datetime(i)), False) for i in rainbow_date_array],\n",
    "                     np.array(rbow['blue'].values[:, row, col]),\n",
    "                     np.array(rbow['green'].values[:, row, col]),\n",
    "                     np.array(rbow['red'].values[:, row, col]),\n",
    "                     np.array(rbow['nir'].values[:, row, col]),\n",
    "                     np.array(rbow['swir1'].values[:, row, col]),\n",
    "                     np.array(rbow['swir2'].values[:, row, col]),\n",
    "                     np.array(rbow['thermal'].values[:, row, col]),\n",
    "                     np.array(rbow['cfmask'].values[:, row, col], dtype=int),\n",
    "                     params={})"
   ]
  },
  {
   "cell_type": "code",
   "execution_count": 6,
   "metadata": {},
   "outputs": [
    {
     "data": {
      "text/plain": [
       "{'algorithm': 'lcmap-pyccd:2017.06.20',\n",
       " 'change_models': [ChangeModel(start_day=724232, end_day=725312, break_day=725392, observation_count=24, change_probability=0, curve_qa=14, blue=SpectralModel(rmse=317.080298849205, coefficients=array([  1.38080991e-01,  -8.54652283e+01,  -1.54894351e+02,\n",
       "         0.00000000e+00,   0.00000000e+00,   0.00000000e+00,\n",
       "         0.00000000e+00]), intercept=-99138.917285486939, magnitude=0.0), green=SpectralModel(rmse=346.1433637009419, coefficients=array([  2.19954445e-02,  -1.42550712e+02,  -2.17054211e+02,\n",
       "         0.00000000e+00,   0.00000000e+00,   0.00000000e+00,\n",
       "         0.00000000e+00]), intercept=-14593.816775893074, magnitude=0.0), red=SpectralModel(rmse=473.4957348530113, coefficients=array([  1.44378634e-01,  -1.78636744e+02,  -3.13199187e+02,\n",
       "         0.00000000e+00,   0.00000000e+00,   0.00000000e+00,\n",
       "         0.00000000e+00]), intercept=-103317.92807450811, magnitude=0.0), nir=SpectralModel(rmse=887.4551317174585, coefficients=array([   0.97698889, -161.987866  , -909.10522445,    0.        ,\n",
       "          0.        ,    0.        ,    0.        ]), intercept=-706520.83852908679, magnitude=0.0), swir1=SpectralModel(rmse=1445.8418654305067, coefficients=array([    1.76521254,  -117.26245953, -1071.83546849,     0.        ,\n",
       "           0.        ,     0.        ,     0.        ]), intercept=-1277960.4969496848, magnitude=0.0), swir2=SpectralModel(rmse=1272.9702365341934, coefficients=array([   1.26665537, -166.22781903, -826.26202297,    0.        ,\n",
       "          0.        ,    0.        ,    0.        ]), intercept=-916905.63919006824, magnitude=0.0), thermal=SpectralModel(rmse=503.55801451387464, coefficients=array([  3.16045295e-01,  -1.08427448e+03,  -2.38527378e+02,\n",
       "         0.00000000e+00,   0.00000000e+00,   0.00000000e+00,\n",
       "         0.00000000e+00]), intercept=-227275.61497785087, magnitude=0.0)),\n",
       "  ChangeModel(start_day=725392, end_day=726928, break_day=726944, observation_count=55, change_probability=1, curve_qa=8, blue=SpectralModel(rmse=151.37665239036016, coefficients=array([   0.61525098, -135.80835803,  -80.55049978,  -16.37839454,\n",
       "        -15.57585766,    0.        ,    8.74892904]), intercept=-445430.89944258897, magnitude=618.58695694062044), green=SpectralModel(rmse=170.20139973586197, coefficients=array([   0.79095379, -248.23207159, -102.55795903,  -31.43723595,\n",
       "         -8.88370812,  -19.75045192,   21.76037168]), intercept=-572599.34417878848, magnitude=725.51135385053931), red=SpectralModel(rmse=172.51784510815213, coefficients=array([   0.85214638, -360.86319634, -162.48985721,  -29.56359211,\n",
       "        -22.01921107,  -23.07886906,   10.16155961]), intercept=-616809.49717296788, magnitude=695.07892853260273), nir=SpectralModel(rmse=209.81761930483123, coefficients=array([   0.58875127, -378.30242548,   52.38848305, -138.93241529,\n",
       "        119.24689763, -101.81740101,   52.8503292 ]), intercept=-424817.63142139954, magnitude=110.90028913630522), swir1=SpectralModel(rmse=223.75721214535866, coefficients=array([   1.14105296, -543.57274655, -142.3502481 ,  -87.72839807,\n",
       "         -0.        ,  -67.07826494,   59.04273324]), intercept=-824705.85831453418, magnitude=1150.3127072710195), swir2=SpectralModel(rmse=298.79772097186674, coefficients=array([   1.5602281 , -474.92356898,  -84.43755236,  -45.74407404,\n",
       "        -32.12621311,  -15.95803165,   80.69519828]), intercept=-1129693.8706521245, magnitude=1812.2167449503904), thermal=SpectralModel(rmse=491.5873680282943, coefficients=array([  8.97351509e-02,  -1.84282483e+03,   8.43417684e+01,\n",
       "        -3.96945652e+02,  -1.94583550e+01,  -1.06679664e+02,\n",
       "         2.38861995e+01]), intercept=-62533.201869120552, magnitude=655.19672108246596)),\n",
       "  ChangeModel(start_day=726944, end_day=728208, break_day=728224, observation_count=49, change_probability=1, curve_qa=8, blue=SpectralModel(rmse=116.68154271923649, coefficients=array([  -0.4755181 ,  -67.95717063, -139.95378703,  -25.91784441,\n",
       "        -76.66688935,   -9.04732958,  -32.01736629]), intercept=346937.1444432218, magnitude=359.21598163188901), green=SpectralModel(rmse=152.907986921671, coefficients=array([  -0.66980183, -176.45869915, -174.60873278,  -28.99579144,\n",
       "        -57.6569815 ,  -11.8677916 ,  -17.18528107]), intercept=488664.43986225186, magnitude=437.95089158212068), red=SpectralModel(rmse=153.8199963293392, coefficients=array([  -0.64535705, -413.32527842, -346.93959476,  -59.25433322,\n",
       "        -96.97845902,  -12.81801397,  -26.98274095]), intercept=471135.64510569855, magnitude=626.29225540190237), nir=SpectralModel(rmse=219.74661349859292, coefficients=array([  -0.97568102, -286.63687172,   15.15954591, -134.85771549,\n",
       "        111.56268448,  -26.47350033,   20.65098285]), intercept=712526.1699578939, magnitude=1592.3142917871592), swir1=SpectralModel(rmse=216.309616286141, coefficients=array([ -6.90413573e-01,  -7.76755917e+02,  -3.26236373e+02,\n",
       "        -1.50690008e+02,  -6.04927412e+01,   1.90720882e+01,\n",
       "         6.42353002e+01]), intercept=505454.58881559671, magnitude=1688.8463580988173), swir2=SpectralModel(rmse=233.92327683994327, coefficients=array([  -1.00323538, -610.24490362, -216.53360405, -122.16596807,\n",
       "        -74.64422048,    4.58729785,   40.19931896]), intercept=732032.9411094269, magnitude=1326.2522096550092), thermal=SpectralModel(rmse=307.41261553523685, coefficients=array([  2.01239264e-01,  -1.61237072e+03,   9.77148743e+01,\n",
       "        -1.11342889e+02,   1.43564928e+02,  -0.00000000e+00,\n",
       "         1.57888405e+02]), intercept=-143866.07844503975, magnitude=1586.5824117497832)),\n",
       "  ChangeModel(start_day=728416, end_day=729920, break_day=729968, observation_count=55, change_probability=1, curve_qa=8, blue=SpectralModel(rmse=140.88607635121934, coefficients=array([ -5.47049784e-02,  -1.51501701e+02,  -4.00641939e+02,\n",
       "        -9.52986868e+01,   1.03646576e+02,  -8.45274771e+01,\n",
       "        -1.08529579e+02]), intercept=40584.444599890645, magnitude=248.10292636458689), green=SpectralModel(rmse=177.08431165627036, coefficients=array([ -1.13780661e-01,  -2.62525957e+02,  -5.64292537e+02,\n",
       "        -1.19330869e+02,   1.22448055e+02,  -1.66386626e+02,\n",
       "        -1.17393639e+02]), intercept=83937.953347673538, magnitude=491.22316428021441), red=SpectralModel(rmse=201.48265559738093, coefficients=array([ -1.61858771e-01,  -2.62193956e+02,  -7.74586584e+02,\n",
       "        -1.78703515e+02,   1.42824709e+02,  -1.63572338e+02,\n",
       "        -1.41418058e+02]), intercept=119068.28343422094, magnitude=642.84656193371484), nir=SpectralModel(rmse=398.85721789388276, coefficients=array([ -3.74381952e-01,  -8.46135883e+02,  -1.61943367e+03,\n",
       "        -1.64483964e+02,   3.47472127e+02,  -4.91147282e+02,\n",
       "        -2.98043481e+02]), intercept=274650.5102584064, magnitude=1020.8297715451627), swir1=SpectralModel(rmse=426.9559060879611, coefficients=array([ -2.75844273e-01,  -5.30955103e+02,  -1.95845269e+03,\n",
       "        -1.95807070e+02,   2.68700817e+02,  -2.31098518e+02,\n",
       "        -4.24333482e+02]), intercept=202822.15393287656, magnitude=613.30603746791894), swir2=SpectralModel(rmse=333.49825059841834, coefficients=array([ -2.95264792e-02,  -2.45497937e+02,  -1.29716926e+03,\n",
       "        -1.39324020e+02,   1.30983606e+02,  -1.03683307e+02,\n",
       "        -2.74144569e+02]), intercept=22647.361486955746, magnitude=320.86979213725317), thermal=SpectralModel(rmse=317.19497417923486, coefficients=array([ -1.04447494e-01,  -1.25874192e+03,  -5.22306034e+02,\n",
       "        -3.30743477e+02,   2.78866793e+02,  -1.21361884e+02,\n",
       "         8.52737797e+01]), intercept=77936.662880088348, magnitude=218.55922674034809)),\n",
       "  ChangeModel(start_day=730152, end_day=730680, break_day=730688, observation_count=48, change_probability=1, curve_qa=8, blue=SpectralModel(rmse=175.6824573341769, coefficients=array([ -0.44016951,  -6.64030563,  -5.79563371,  49.64720945,\n",
       "       -32.44700612,   7.63781117,  55.00431222]), intercept=322829.97935021087, magnitude=391.92600800245418), green=SpectralModel(rmse=193.8944176156187, coefficients=array([  -0.48535503, -133.77837249,    0.        ,   51.36321788,\n",
       "        -29.04440035,    3.61635483,   84.88192711]), intercept=356207.19450153207, magnitude=520.21949779620627), red=SpectralModel(rmse=204.22512969615215, coefficients=array([  -0.43406356, -244.90252321,  -99.31941486,   93.09388005,\n",
       "        -37.86600875,   16.20072397,  102.58539841]), intercept=319043.88053445856, magnitude=650.12204042775556), nir=SpectralModel(rmse=195.8827739094274, coefficients=array([ -4.15257729e-01,  -4.18533848e+02,   6.52430118e+01,\n",
       "        -1.05735122e+02,  -7.81838397e+01,   2.99022464e+00,\n",
       "         3.40751580e+00]), intercept=306127.72964460286, magnitude=553.6301741192583), swir1=SpectralModel(rmse=318.0862934896448, coefficients=array([  -0.74732973, -363.03712433, -158.94762934,   95.82232967,\n",
       "        -99.0185408 ,  -91.32729493,  111.93106007]), intercept=549790.38304278417, magnitude=890.61511870345566), swir2=SpectralModel(rmse=317.55787494351557, coefficients=array([  -0.68514665, -237.57238684,   15.44570451,   84.86631447,\n",
       "          7.80621074,  -93.82273357,  162.85165556]), intercept=503336.25815996784, magnitude=942.95758448244305), thermal=SpectralModel(rmse=383.2461510380189, coefficients=array([  7.43329502e-01,  -1.69267557e+03,   2.24568840e+02,\n",
       "        -7.60068203e+01,   1.21185300e+02,   3.21215104e+01,\n",
       "        -5.06251063e+01]), intercept=-540161.32662580814, magnitude=340.37613480398431)),\n",
       "  ChangeModel(start_day=730688, end_day=731648, break_day=731656, observation_count=76, change_probability=1, curve_qa=8, blue=SpectralModel(rmse=128.2218062668371, coefficients=array([ -1.63219920e-01,  -2.47588674e+02,  -1.67884411e+02,\n",
       "        -5.25734091e+01,  -7.85292008e+01,  -3.43829762e+01,\n",
       "        -2.72175833e+01]), intercept=120610.33299503144, magnitude=676.60349882258743), green=SpectralModel(rmse=115.92515800514184, coefficients=array([ -3.02445911e-01,  -3.72096246e+02,  -1.95644834e+02,\n",
       "        -7.88742536e+01,  -5.03230100e+01,  -4.78714460e+01,\n",
       "        -7.49676440e+00]), intercept=222800.68713605075, magnitude=847.31122042390052), red=SpectralModel(rmse=111.9952661132011, coefficients=array([ -5.11154363e-01,  -5.37400704e+02,  -2.56669802e+02,\n",
       "        -1.68889534e+02,  -4.46273836e+01,  -8.77659582e+01,\n",
       "        -1.29445249e+01]), intercept=375686.40285619994, magnitude=1059.6316869017901), nir=SpectralModel(rmse=186.16851218483333, coefficients=array([  -0.6947644 , -104.21500181,  -69.32110239,   88.17111179,\n",
       "        105.70780588,    3.68252661,   94.94894387]), intercept=510861.9038209421, magnitude=1569.1311298058718), swir1=SpectralModel(rmse=154.9077966042073, coefficients=array([ -6.47722512e-01,  -7.44110378e+02,  -2.15493664e+02,\n",
       "        -2.76258183e+02,  -5.87767001e+01,  -1.31871370e+02,\n",
       "        -1.32350498e+01]), intercept=477576.56255029311, magnitude=3465.1094016418792), swir2=SpectralModel(rmse=198.14277875318308, coefficients=array([ -2.21097448e-01,  -8.48598411e+02,  -1.85115845e+02,\n",
       "        -3.16854914e+02,  -1.51057059e+02,  -1.59168695e+02,\n",
       "        -2.30874690e+01]), intercept=164842.29588604672, magnitude=2956.1355119526561), thermal=SpectralModel(rmse=373.7634339147567, coefficients=array([ -2.07856524e-01,  -1.66209397e+03,   1.69917054e+02,\n",
       "        -3.50585196e+02,   1.65428596e+02,  -1.30136609e+01,\n",
       "         2.03098879e+02]), intercept=155004.494156114, magnitude=1043.8956830926181)),\n",
       "  ChangeModel(start_day=732624, end_day=733880, break_day=733888, observation_count=103, change_probability=1, curve_qa=8, blue=SpectralModel(rmse=129.7219271991265, coefficients=array([  1.07988184e-02,  -2.53802309e+02,  -7.73082733e+01,\n",
       "        -0.00000000e+00,   6.05257897e+00,   2.21818291e+01,\n",
       "        -1.00926245e+00]), intercept=-6860.4266852420033, magnitude=394.98051999094105), green=SpectralModel(rmse=148.1637552766798, coefficients=array([  9.74781808e-03,  -3.77200596e+02,  -1.06527898e+02,\n",
       "        -7.17662561e+00,   1.88156830e+01,   8.44075903e+00,\n",
       "         6.77138204e+00]), intercept=-5784.1633239249959, magnitude=447.49441815952014), red=SpectralModel(rmse=170.83863269787628, coefficients=array([  3.48737250e-02,  -5.14561933e+02,  -1.68673088e+02,\n",
       "        -3.60546656e+01,  -2.96981292e+00,   4.29634755e+00,\n",
       "        -8.38884617e+00]), intercept=-23916.429270778808, magnitude=548.87597991274379), nir=SpectralModel(rmse=329.58878856319734, coefficients=array([  3.00782935e-01,  -3.31597978e+02,  -9.06969118e+00,\n",
       "         5.75828482e+01,   1.31533773e+02,   8.75900630e+00,\n",
       "         1.33394330e+02]), intercept=-218055.29103439479, magnitude=439.48433863699029), swir1=SpectralModel(rmse=204.07396693108495, coefficients=array([ -3.83141998e-02,  -7.82674857e+02,  -8.58557940e+01,\n",
       "        -1.00796489e+02,  -4.16759125e+01,   1.17605341e+01,\n",
       "         1.68114206e-01]), intercept=31707.324438669366, magnitude=891.57433298079923), swir2=SpectralModel(rmse=201.7984569430046, coefficients=array([  8.98943823e-02,  -6.83922146e+02,  -4.95404177e+01,\n",
       "        -9.08150875e+01,  -4.91862463e+01,   1.46260305e+01,\n",
       "        -4.20968662e+00]), intercept=-63254.313246387253, magnitude=886.51368848233687), thermal=SpectralModel(rmse=418.4274910540837, coefficients=array([  3.31378275e-01,  -1.64458811e+03,   2.30118142e+02,\n",
       "        -1.74123293e+02,   1.04806139e+02,  -7.24220509e+01,\n",
       "         2.02685199e+01]), intercept=-239838.45983756849, magnitude=523.46610693904222)),\n",
       "  ChangeModel(start_day=733944, end_day=734840, break_day=734856, observation_count=56, change_probability=1, curve_qa=8, blue=SpectralModel(rmse=95.1605669928314, coefficients=array([  1.96602481e-02,  -2.36490152e+02,  -3.46154275e+02,\n",
       "        -4.47038354e+01,   4.60707357e+01,  -8.09527762e+01,\n",
       "        -1.09563627e+01]), intercept=-13827.593785100911, magnitude=623.86826522827141), green=SpectralModel(rmse=108.84329869997845, coefficients=array([  1.90828686e-01,  -3.55497001e+02,  -4.50195358e+02,\n",
       "         4.18086691e+00,   8.68416951e+01,  -8.33692026e+01,\n",
       "         1.82708111e+00]), intercept=-139278.60816207668, magnitude=488.1340074052132), red=SpectralModel(rmse=131.8355756710455, coefficients=array([ -3.24749590e-02,  -4.03363668e+02,  -6.13286817e+02,\n",
       "        -6.43077693e+01,   1.37470743e+02,  -6.02299928e+01,\n",
       "        -1.62300954e+00]), intercept=24769.603988642615, magnitude=761.74384999579161), nir=SpectralModel(rmse=356.5399333774527, coefficients=array([    1.51033611,  -963.5028241 , -1288.91524938,   314.78607899,\n",
       "         480.55770627,  -328.91695816,  -108.80147856]), intercept=-1107370.3690243976, magnitude=396.51618194091134), swir1=SpectralModel(rmse=342.17242957117463, coefficients=array([ -1.32837712e-01,  -7.47876281e+02,  -1.59858576e+03,\n",
       "        -2.73264920e+01,   2.35032822e+02,  -3.20762467e+02,\n",
       "        -2.06656012e+02]), intercept=99066.399745325412, magnitude=2795.7305392085109), swir2=SpectralModel(rmse=220.96358038752228, coefficients=array([ -5.89798547e-01,  -4.03109482e+02,  -9.85136914e+02,\n",
       "        -7.55677255e+01,   7.55370299e+01,  -2.32829522e+02,\n",
       "        -1.48058159e+02]), intercept=434020.69307278917, magnitude=2590.6516497986449), thermal=SpectralModel(rmse=328.9566139981455, coefficients=array([ -7.50091808e-01,  -1.33673353e+03,  -4.71826845e+02,\n",
       "        -8.66476081e+01,   3.34207757e+02,  -6.56244942e+01,\n",
       "        -6.03746266e+01]), intercept=552923.29530157428, magnitude=1425.0958299210761)),\n",
       "  ChangeModel(start_day=735104, end_day=735832, break_day=735840, observation_count=51, change_probability=1, curve_qa=8, blue=SpectralModel(rmse=155.4168428544618, coefficients=array([ -3.58671296e-01,  -4.76344369e+01,  -5.03002222e+02,\n",
       "         5.05580365e+01,   1.95142133e+01,  -7.87583560e+00,\n",
       "        -3.53778063e+01]), intercept=264561.79328591895, magnitude=89.730871745472541), green=SpectralModel(rmse=171.70517020930035, coefficients=array([ -8.21212287e-02,  -2.21674874e+02,  -7.64959831e+02,\n",
       "         9.57142805e+01,   3.60727086e+01,  -3.71967243e+01,\n",
       "        -3.67165336e+01]), intercept=61467.80363823002, magnitude=214.12638155721288), red=SpectralModel(rmse=214.26805634930807, coefficients=array([  2.59721674e-01,  -2.81304588e+02,  -1.08155815e+03,\n",
       "         9.34329795e+00,   6.04976157e+01,  -3.03269166e+01,\n",
       "        -6.34225497e+01]), intercept=-189785.14751879426, magnitude=599.4976225199789), nir=SpectralModel(rmse=387.7565796985421, coefficients=array([  1.53582869e+00,  -9.01399203e+02,  -1.86714534e+03,\n",
       "         3.64854243e+02,   1.62943484e+02,  -3.63765361e+02,\n",
       "        -1.52716604e+02]), intercept=-1127646.6064734841, magnitude=1783.1165244522272), swir1=SpectralModel(rmse=345.1427743798367, coefficients=array([ -5.25866791e-01,  -1.92563747e+02,  -2.16884335e+03,\n",
       "         2.27620943e+02,   1.92613603e+02,  -9.28845099e+01,\n",
       "        -2.55172709e+02]), intercept=388991.92474565847, magnitude=332.85441442788579), swir2=SpectralModel(rmse=299.8008370464095, coefficients=array([ -1.46193779e+00,   2.12620852e+02,  -1.46287211e+03,\n",
       "         2.49580862e+02,   1.73751684e+02,   6.74422853e+01,\n",
       "        -1.70616677e+02]), intercept=1076913.7800365181, magnitude=853.87781989364885), thermal=SpectralModel(rmse=378.85878082215805, coefficients=array([ -8.41116634e-01,  -1.08175833e+03,  -4.55098652e+02,\n",
       "        -1.35904114e+02,   3.97989143e+02,  -1.17984749e+00,\n",
       "        -1.82433117e+01]), intercept=621053.5920593366, magnitude=640.96558440831723)),\n",
       "  ChangeModel(start_day=735840, end_day=735944, break_day=735944, observation_count=11, change_probability=0, curve_qa=24, blue=SpectralModel(rmse=67.51600034364633, coefficients=array([ 0.01701986, -0.        ,  0.        ,  0.        ,  0.        ,\n",
       "        0.        ,  0.        ]), intercept=-11400.628824392326, magnitude=0.0), green=SpectralModel(rmse=61.06551458726155, coefficients=array([ -0.19998569,   0.        , -70.70414182,   0.        ,\n",
       "         0.        ,   0.        ,   0.        ]), intercept=148604.99068946365, magnitude=0.0), red=SpectralModel(rmse=62.65930016817041, coefficients=array([ -0.57219967,  -0.        , -89.01772724,   0.        ,\n",
       "         0.        ,   0.        ,   0.        ]), intercept=422771.27337145974, magnitude=0.0), nir=SpectralModel(rmse=92.08627463274844, coefficients=array([ -2.94660224,   0.        , -95.01244861,   0.        ,\n",
       "         0.        ,   0.        ,   0.        ]), intercept=2170605.157580399, magnitude=0.0), swir1=SpectralModel(rmse=103.55296333613617, coefficients=array([-5.0068564, -0.       ,  0.       ,  0.       ,  0.       ,\n",
       "        0.       ,  0.       ]), intercept=3687923.8216156755, magnitude=0.0), swir2=SpectralModel(rmse=124.0322280401685, coefficients=array([ -5.30428278,   0.        ,  57.44354077,   0.        ,\n",
       "         0.        ,   0.        ,   0.        ]), intercept=3906436.8617561231, magnitude=0.0), thermal=SpectralModel(rmse=443.70600515457375, coefficients=array([   48.51786165, -4798.5131319 ,  -274.00306449,     0.        ,\n",
       "           0.        ,     0.        ,     0.        ]), intercept=-35701119.360892206, magnitude=0.0))],\n",
       " 'procedure': 'standard_procedure',\n",
       " 'processing_mask': array([False, False, False, ..., False, False, False], dtype=bool)}"
      ]
     },
     "execution_count": 6,
     "metadata": {},
     "output_type": "execute_result"
    }
   ],
   "source": [
    "result"
   ]
  },
  {
   "cell_type": "code",
   "execution_count": null,
   "metadata": {
    "collapsed": true
   },
   "outputs": [],
   "source": []
  },
  {
   "cell_type": "code",
   "execution_count": 19,
   "metadata": {
    "collapsed": true
   },
   "outputs": [],
   "source": [
    "res = detect(rbow, xindex, yindex)"
   ]
  },
  {
   "cell_type": "code",
   "execution_count": 20,
   "metadata": {},
   "outputs": [
    {
     "data": {
      "text/plain": [
       "1"
      ]
     },
     "execution_count": 20,
     "metadata": {},
     "output_type": "execute_result"
    }
   ],
   "source": [
    "res"
   ]
  },
  {
   "cell_type": "code",
   "execution_count": 27,
   "metadata": {},
   "outputs": [
    {
     "name": "stdout",
     "output_type": "stream",
     "text": [
      "1982-01-01/2015-12-31\n"
     ]
    }
   ],
   "source": [
    "print(dates)"
   ]
  }
 ],
 "metadata": {
  "kernelspec": {
   "display_name": "Python 3",
   "language": "python",
   "name": "python3"
  },
  "language_info": {
   "codemirror_mode": {
    "name": "ipython",
    "version": 3
   },
   "file_extension": ".py",
   "mimetype": "text/x-python",
   "name": "python",
   "nbconvert_exporter": "python",
   "pygments_lexer": "ipython3",
   "version": "3.5.3"
  }
 },
 "nbformat": 4,
 "nbformat_minor": 2
}

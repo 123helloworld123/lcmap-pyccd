{
 "cells": [
  {
   "cell_type": "code",
   "execution_count": 1,
   "metadata": {
    "collapsed": true
   },
   "outputs": [],
   "source": [
    "import requests\n",
    "import json\n",
    "import math\n",
    "import ccd\n",
    "import base64\n",
    "import xarray as xr\n",
    "import pandas as pd\n",
    "import numpy as np\n",
    "from datetime import datetime\n",
    "from test.shared import snap, rainbow\n",
    "import os"
   ]
  },
  {
   "cell_type": "code",
   "execution_count": 2,
   "metadata": {
    "collapsed": true
   },
   "outputs": [],
   "source": [
    "# detect results for x, y: -2094435, 1681005 took 2.455234 seconds to generate  VERIFIED 2.6 seconds locally\n",
    "# detect results for x, y: -2033595, 1685955 took 1.879693 seconds to generate\n",
    "# detect results for x, y: -2098875, 1694895 took 0.986887 seconds to generate  VERIFIED 1.8 seconds locally\n",
    "pixl_x     = -2094435\n",
    "pixl_y     = 1681005\n",
    "pixl_x = -2098875\n",
    "pixl_y = 1694895\n",
    "chips_host = os.getenv('LCMAP_CHIP_HOST')\n",
    "\n",
    "inputs_url = \"{chips_host}?x={x}&y={y}\\\n",
    "&acquired=1982-01-01/2015-12-31\\\n",
    "&ubid=LANDSAT_4/TM/SRB1\\\n",
    "&ubid=LANDSAT_4/TM/SRB2\\\n",
    "&ubid=LANDSAT_4/TM/SRB3\\\n",
    "&ubid=LANDSAT_4/TM/SRB4\\\n",
    "&ubid=LANDSAT_4/TM/SRB5\\\n",
    "&ubid=LANDSAT_4/TM/BTB6\\\n",
    "&ubid=LANDSAT_4/TM/SRB7\\\n",
    "&ubid=LANDSAT_4/TM/PIXELQA\\\n",
    "&ubid=LANDSAT_5/TM/SRB1\\\n",
    "&ubid=LANDSAT_5/TM/SRB2\\\n",
    "&ubid=LANDSAT_5/TM/SRB3\\\n",
    "&ubid=LANDSAT_5/TM/SRB4\\\n",
    "&ubid=LANDSAT_5/TM/SRB5\\\n",
    "&ubid=LANDSAT_5/TM/BTB6\\\n",
    "&ubid=LANDSAT_5/TM/SRB7\\\n",
    "&ubid=LANDSAT_5/TM/PIXELQA\\\n",
    "&ubid=LANDSAT_7/ETM/SRB1\\\n",
    "&ubid=LANDSAT_7/ETM/SRB2\\\n",
    "&ubid=LANDSAT_7/ETM/SRB3\\\n",
    "&ubid=LANDSAT_7/ETM/SRB4\\\n",
    "&ubid=LANDSAT_7/ETM/SRB5\\\n",
    "&ubid=LANDSAT_7/ETM/BTB6\\\n",
    "&ubid=LANDSAT_7/ETM/SRB7\\\n",
    "&ubid=LANDSAT_7/ETM/PIXELQA\\\n",
    "&ubid=LANDSAT_8/OLI_TIRS/SRB2\\\n",
    "&ubid=LANDSAT_8/OLI_TIRS/SRB3\\\n",
    "&ubid=LANDSAT_8/OLI_TIRS/SRB4\\\n",
    "&ubid=LANDSAT_8/OLI_TIRS/SRB5\\\n",
    "&ubid=LANDSAT_8/OLI_TIRS/SRB6\\\n",
    "&ubid=LANDSAT_8/OLI_TIRS/SRB7\\\n",
    "&ubid=LANDSAT_8/OLI_TIRS/BTB10\\\n",
    "&ubid=LANDSAT_8/OLI_TIRS/PIXELQA\".format(chips_host=chips_host, x=pixl_x, y=pixl_y)\n",
    "\n",
    "dates           = [i.split('=')[1] for i in inputs_url.split('&') if 'acquired=' in i][0]\n",
    "chips_url       = inputs_url.split('?')[0]\n",
    "specs_url       = chips_url.replace('/chips', '/chip-specs')\n",
    "querystr_list   = inputs_url.split('?')[1].split('&')\n",
    "requested_ubids = [i.replace('ubid=', '') for i in querystr_list if 'ubid=' in i]"
   ]
  },
  {
   "cell_type": "code",
   "execution_count": 3,
   "metadata": {
    "collapsed": true
   },
   "outputs": [],
   "source": [
    "# get chip id\n",
    "chip_x, chip_y = snap(pixl_x, pixl_y)\n",
    "xindex = int((pixl_x - chip_x) / 30)\n",
    "yindex = int((chip_y - pixl_y) / 30)"
   ]
  },
  {
   "cell_type": "code",
   "execution_count": 4,
   "metadata": {
    "collapsed": true
   },
   "outputs": [],
   "source": [
    "def return_xarray(filepath):\n",
    "    with open(filepath, 'r') as f:\n",
    "        _rjson = json.loads(f.read())\n",
    "    return xr.Dataset.from_dict(_rjson)\n",
    "\n",
    "def save_xarray(xd, filepath):\n",
    "    with open(filepath, 'w') as f:\n",
    "        f.write(json.dumps(xd.to_dict()))        \n",
    "        \n",
    "def fetch_rainbow_data(chip_x, chip_y, save_path=\"test/resources\"):        \n",
    "    # does chip json exist? if not, attempt retrieval\n",
    "    json_filename = \"{}/saved_rainbow-{}-{}.json\".format(save_path, chip_x, chip_y)\n",
    "    if os.access(json_filename, os.F_OK):\n",
    "        rbow = return_xarray(json_filename)\n",
    "    else:\n",
    "        rbow = rainbow(chip_x, chip_y, dates, specs_url, chips_url, requested_ubids)\n",
    "        save_xarray(rbow, json_filename)\n",
    "    return rbow    "
   ]
  },
  {
   "cell_type": "code",
   "execution_count": 5,
   "metadata": {
    "scrolled": true
   },
   "outputs": [],
   "source": [
    "rbow2 = fetch_rainbow_data(chip_x, chip_y)"
   ]
  },
  {
   "cell_type": "code",
   "execution_count": 6,
   "metadata": {
    "collapsed": true
   },
   "outputs": [],
   "source": [
    "def dtstr_to_ordinal(dtstr, iso=True):\n",
    "    \"\"\" Return ordinal from string formatted date\"\"\"\n",
    "    _fmt = '%Y-%m-%dT%H:%M:%SZ' if iso else '%Y-%m-%d %H:%M:%S'\n",
    "    _dt = datetime.strptime(dtstr, _fmt)\n",
    "    return _dt.toordinal()\n",
    "\n",
    "def detect(rainbow, x, y):\n",
    "    \"\"\" Return results of ccd.detect for a given stack of data at a particular x and y \"\"\"\n",
    "    try:\n",
    "        # Beware: rainbow contains stacks of row-major two-dimensional arrays\n",
    "        # for each band of data. These variables are used to make the order\n",
    "        # of access clear.\n",
    "        _start = datetime.now()\n",
    "        row, col = y, x\n",
    "        rainbow_date_array = np.array(rainbow['t'].values)\n",
    "        \n",
    "        result =  ccd.detect([dtstr_to_ordinal(str(pd.to_datetime(i)), False) for i in rainbow_date_array],\n",
    "                             np.array(rainbow['blue'].values[:, row, col]),\n",
    "                             np.array(rainbow['green'].values[:, row, col]),\n",
    "                             np.array(rainbow['red'].values[:, row, col]),\n",
    "                             np.array(rainbow['nir'].values[:, row, col]),\n",
    "                             np.array(rainbow['swir1'].values[:, row, col]),\n",
    "                             np.array(rainbow['swir2'].values[:, row, col]),\n",
    "                             np.array(rainbow['thermal'].values[:, row, col]),\n",
    "                             np.array(rainbow['cfmask'].values[:, row, col], dtype=int),\n",
    "                             params={})\n",
    "        print(\"detect took {} seconds to run\".format((datetime.now()-_start).total_seconds()))\n",
    "    except Exception as e:\n",
    "        raise Exception(e)"
   ]
  },
  {
   "cell_type": "code",
   "execution_count": 7,
   "metadata": {},
   "outputs": [
    {
     "name": "stdout",
     "output_type": "stream",
     "text": [
      "detect took 1.94772 seconds to run\n"
     ]
    }
   ],
   "source": [
    "rbow2_results = detect(rbow2, xindex, yindex)"
   ]
  },
  {
   "cell_type": "code",
   "execution_count": null,
   "metadata": {
    "collapsed": true
   },
   "outputs": [],
   "source": []
  }
 ],
 "metadata": {
  "kernelspec": {
   "display_name": "Python 3",
   "language": "python",
   "name": "python3"
  },
  "language_info": {
   "codemirror_mode": {
    "name": "ipython",
    "version": 3
   },
   "file_extension": ".py",
   "mimetype": "text/x-python",
   "name": "python",
   "nbconvert_exporter": "python",
   "pygments_lexer": "ipython3",
   "version": "3.5.3"
  }
 },
 "nbformat": 4,
 "nbformat_minor": 2
}

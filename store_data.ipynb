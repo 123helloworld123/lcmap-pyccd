{
 "cells": [
  {
   "cell_type": "code",
   "execution_count": 17,
   "metadata": {
    "collapsed": true
   },
   "outputs": [],
   "source": [
    "import json, os\n",
    "import ccd\n",
    "import numpy as np\n",
    "import pandas as pd\n",
    "from datetime import datetime\n",
    "from test.shared import snap, rainbow"
   ]
  },
  {
   "cell_type": "code",
   "execution_count": 2,
   "metadata": {
    "collapsed": true
   },
   "outputs": [],
   "source": [
    "# detect results for x, y: -2094435, 1681005 took 2.455234 seconds to generate  VERIFIED 2.6 seconds locally\n",
    "# detect results for x, y: -2033595, 1685955 took 1.879693 seconds to generate\n",
    "# detect results for x, y: -2098875, 1694895 took 0.986887 seconds to generate  VERIFIED 1.8 seconds locally\n",
    "pixl_x, pixl_y = -2094435, 1681005\n",
    "pixl_x, pixl_y = -2098875, 1694895\n",
    "\n",
    "inputs_url = \"https://lcmaphost.com?x={x}&y={y}&acquired=1982-01-01/2015-12-31\\\n",
    "&ubid=LANDSAT_4/TM/SRB1&ubid=LANDSAT_4/TM/SRB2&ubid=LANDSAT_4/TM/SRB3&ubid=LANDSAT_4/TM/SRB4\\\n",
    "&ubid=LANDSAT_4/TM/SRB5&ubid=LANDSAT_4/TM/BTB6&ubid=LANDSAT_4/TM/SRB7&ubid=LANDSAT_4/TM/PIXELQA\\\n",
    "&ubid=LANDSAT_5/TM/SRB1&ubid=LANDSAT_5/TM/SRB2&ubid=LANDSAT_5/TM/SRB3&ubid=LANDSAT_5/TM/SRB4\\\n",
    "&ubid=LANDSAT_5/TM/SRB5&ubid=LANDSAT_5/TM/BTB6&ubid=LANDSAT_5/TM/SRB7&ubid=LANDSAT_5/TM/PIXELQA\\\n",
    "&ubid=LANDSAT_7/ETM/SRB1&ubid=LANDSAT_7/ETM/SRB2&ubid=LANDSAT_7/ETM/SRB3&ubid=LANDSAT_7/ETM/SRB4\\\n",
    "&ubid=LANDSAT_7/ETM/SRB5&ubid=LANDSAT_7/ETM/BTB6&ubid=LANDSAT_7/ETM/SRB7&ubid=LANDSAT_7/ETM/PIXELQA\\\n",
    "&ubid=LANDSAT_8/OLI_TIRS/SRB2&ubid=LANDSAT_8/OLI_TIRS/SRB3&ubid=LANDSAT_8/OLI_TIRS/SRB4&ubid=LANDSAT_8/OLI_TIRS/SRB5\\\n",
    "&ubid=LANDSAT_8/OLI_TIRS/SRB6&ubid=LANDSAT_8/OLI_TIRS/SRB7&ubid=LANDSAT_8/OLI_TIRS/BTB10\\\n",
    "&ubid=LANDSAT_8/OLI_TIRS/PIXELQA\".format(chips_host=chips_host, x=pixl_x, y=pixl_y)\n",
    "\n",
    "dates           = [i.split('=')[1] for i in inputs_url.split('&') if 'acquired=' in i][0]\n",
    "chips_url       = inputs_url.split('?')[0]\n",
    "specs_url       = chips_url.replace('/chips', '/chip-specs')\n",
    "querystr_list   = inputs_url.split('?')[1].split('&')\n",
    "requested_ubids = [i.replace('ubid=', '') for i in querystr_list if 'ubid=' in i]"
   ]
  },
  {
   "cell_type": "code",
   "execution_count": 3,
   "metadata": {
    "collapsed": true
   },
   "outputs": [],
   "source": [
    "# get chip id\n",
    "chip_x, chip_y = snap(pixl_x, pixl_y)\n",
    "xindex = int((pixl_x - chip_x) / 30)\n",
    "yindex = int((chip_y - pixl_y) / 30)"
   ]
  },
  {
   "cell_type": "code",
   "execution_count": 7,
   "metadata": {},
   "outputs": [
    {
     "name": "stdout",
     "output_type": "stream",
     "text": [
      "57\n",
      "97\n"
     ]
    }
   ],
   "source": [
    "print(xindex)\n",
    "print(yindex)"
   ]
  },
  {
   "cell_type": "code",
   "execution_count": 5,
   "metadata": {
    "collapsed": true
   },
   "outputs": [],
   "source": [
    "rbow = rainbow(-2094585, 1682805, dates, specs_url, chips_url, requested_ubids)"
   ]
  },
  {
   "cell_type": "code",
   "execution_count": 22,
   "metadata": {
    "collapsed": true
   },
   "outputs": [],
   "source": [
    "def dtstr_to_ordinal(dtstr, iso=True):\n",
    "    \"\"\" Return ordinal from string formatted date\"\"\"\n",
    "    _fmt = '%Y-%m-%dT%H:%M:%SZ' if iso else '%Y-%m-%d %H:%M:%S'\n",
    "    _dt = datetime.strptime(dtstr, _fmt)\n",
    "    return _dt.toordinal()\n",
    "\n",
    "def detect(rainbow, x, y):\n",
    "    \"\"\" Return results of ccd.detect for a given stack of data at a particular x and y \"\"\"\n",
    "    try:\n",
    "        # Beware: rainbow contains stacks of row-major two-dimensional arrays\n",
    "        # for each band of data. These variables are used to make the order\n",
    "        # of access clear.\n",
    "        _start = datetime.now()\n",
    "        row, col = y, x\n",
    "        rainbow_date_array = np.array(rainbow['t'].values)\n",
    "        \n",
    "        result =  ccd.detect([dtstr_to_ordinal(str(pd.to_datetime(i)), False) for i in rainbow_date_array],\n",
    "                             np.array(rainbow['blue'].values[:, row, col]),\n",
    "                             np.array(rainbow['green'].values[:, row, col]),\n",
    "                             np.array(rainbow['red'].values[:, row, col]),\n",
    "                             np.array(rainbow['nir'].values[:, row, col]),\n",
    "                             np.array(rainbow['swir1'].values[:, row, col]),\n",
    "                             np.array(rainbow['swir2'].values[:, row, col]),\n",
    "                             np.array(rainbow['thermal'].values[:, row, col]),\n",
    "                             np.array(rainbow['cfmask'].values[:, row, col], dtype=int),\n",
    "                             params={})\n",
    "        print(\"detect took {} seconds to run\".format((datetime.now()-_start).total_seconds()))\n",
    "        return result\n",
    "    except Exception as e:\n",
    "        raise Exception(e)"
   ]
  },
  {
   "cell_type": "code",
   "execution_count": 23,
   "metadata": {},
   "outputs": [
    {
     "name": "stdout",
     "output_type": "stream",
     "text": [
      "detect took 1.692778 seconds to run\n"
     ]
    },
    {
     "name": "stderr",
     "output_type": "stream",
     "text": [
      "/home/caustin/miniconda2/envs/ccd35/lib/python3.5/site-packages/sklearn/linear_model/coordinate_descent.py:484: ConvergenceWarning: Objective did not converge. You might want to increase the number of iterations. Fitting data with very small alpha may cause precision problems.\n",
      "  ConvergenceWarning)\n"
     ]
    }
   ],
   "source": [
    "res = detect(rbow, xindex, yindex)"
   ]
  },
  {
   "cell_type": "code",
   "execution_count": 24,
   "metadata": {},
   "outputs": [
    {
     "data": {
      "text/plain": [
       "{'algorithm': 'lcmap-pyccd:2017.06.20',\n",
       " 'change_models': [ChangeModel(start_day=724232, end_day=725312, break_day=725392, observation_count=24, change_probability=0, curve_qa=14, blue=SpectralModel(rmse=317.08029884920501, coefficients=array([  1.38080991e-01,  -8.54652283e+01,  -1.54894351e+02,\n",
       "         0.00000000e+00,   0.00000000e+00,   0.00000000e+00,\n",
       "         0.00000000e+00]), intercept=-99138.917285486939, magnitude=0.0), green=SpectralModel(rmse=346.14336370094196, coefficients=array([  2.19954445e-02,  -1.42550712e+02,  -2.17054211e+02,\n",
       "         0.00000000e+00,   0.00000000e+00,   0.00000000e+00,\n",
       "         0.00000000e+00]), intercept=-14593.816775893074, magnitude=0.0), red=SpectralModel(rmse=473.49573485301141, coefficients=array([  1.44378634e-01,  -1.78636744e+02,  -3.13199187e+02,\n",
       "         0.00000000e+00,   0.00000000e+00,   0.00000000e+00,\n",
       "         0.00000000e+00]), intercept=-103317.92807450811, magnitude=0.0), nir=SpectralModel(rmse=887.45513171745847, coefficients=array([   0.97698889, -161.987866  , -909.10522445,    0.        ,\n",
       "          0.        ,    0.        ,    0.        ]), intercept=-706520.83852908679, magnitude=0.0), swir1=SpectralModel(rmse=1445.8418654305067, coefficients=array([    1.76521254,  -117.26245953, -1071.83546849,     0.        ,\n",
       "           0.        ,     0.        ,     0.        ]), intercept=-1277960.4969496848, magnitude=0.0), swir2=SpectralModel(rmse=1272.9702365341934, coefficients=array([   1.26665537, -166.22781903, -826.26202297,    0.        ,\n",
       "          0.        ,    0.        ,    0.        ]), intercept=-916905.63919006824, magnitude=0.0), thermal=SpectralModel(rmse=503.5580145138747, coefficients=array([  3.16045295e-01,  -1.08427448e+03,  -2.38527378e+02,\n",
       "         0.00000000e+00,   0.00000000e+00,   0.00000000e+00,\n",
       "         0.00000000e+00]), intercept=-227275.61497785087, magnitude=0.0)),\n",
       "  ChangeModel(start_day=725392, end_day=726928, break_day=726944, observation_count=55, change_probability=1, curve_qa=8, blue=SpectralModel(rmse=151.37665239035627, coefficients=array([   0.61525098, -135.80835803,  -80.55049978,  -16.37839454,\n",
       "        -15.57585766,    0.        ,    8.74892904]), intercept=-445430.89944258897, magnitude=618.58695694062044), green=SpectralModel(rmse=170.20139973586106, coefficients=array([   0.79095379, -248.23207159, -102.55795903,  -31.43723595,\n",
       "         -8.88370812,  -19.75045192,   21.76037168]), intercept=-572599.34417878848, magnitude=725.51135385059752), red=SpectralModel(rmse=172.51784510815287, coefficients=array([   0.85214638, -360.86319634, -162.48985721,  -29.56359211,\n",
       "        -22.01921107,  -23.07886906,   10.16155961]), intercept=-616809.49717296788, magnitude=695.07892853254452), nir=SpectralModel(rmse=209.81761930482909, coefficients=array([   0.58875127, -378.30242548,   52.38848305, -138.93241529,\n",
       "        119.24689763, -101.81740101,   52.8503292 ]), intercept=-424817.63142139954, magnitude=110.90028913627611), swir1=SpectralModel(rmse=223.75721214535935, coefficients=array([   1.14105296, -543.57274655, -142.3502481 ,  -87.72839807,\n",
       "         -0.        ,  -67.07826494,   59.04273324]), intercept=-824705.85831453418, magnitude=1150.3127072711359), swir2=SpectralModel(rmse=298.79772097184815, coefficients=array([   1.5602281 , -474.92356898,  -84.43755236,  -45.74407404,\n",
       "        -32.12621311,  -15.95803165,   80.69519828]), intercept=-1129693.8706521245, magnitude=1812.2167449505068), thermal=SpectralModel(rmse=491.58736802829469, coefficients=array([  8.97351509e-02,  -1.84282483e+03,   8.43417684e+01,\n",
       "        -3.96945652e+02,  -1.94583550e+01,  -1.06679664e+02,\n",
       "         2.38861995e+01]), intercept=-62533.201869120552, magnitude=655.19672108245868)),\n",
       "  ChangeModel(start_day=726944, end_day=728208, break_day=728224, observation_count=49, change_probability=1, curve_qa=8, blue=SpectralModel(rmse=116.68154271923517, coefficients=array([  -0.4755181 ,  -67.95717063, -139.95378703,  -25.91784441,\n",
       "        -76.66688935,   -9.04732958,  -32.01736629]), intercept=346937.1444432218, magnitude=359.2159816318599), green=SpectralModel(rmse=152.90798692167155, coefficients=array([  -0.66980183, -176.45869915, -174.60873278,  -28.99579144,\n",
       "        -57.6569815 ,  -11.8677916 ,  -17.18528107]), intercept=488664.43986225186, magnitude=437.95089158212068), red=SpectralModel(rmse=153.8199963293473, coefficients=array([  -0.64535705, -413.32527842, -346.93959476,  -59.25433322,\n",
       "        -96.97845902,  -12.81801397,  -26.98274095]), intercept=471135.64510569855, magnitude=626.29225540187326), nir=SpectralModel(rmse=219.74661349859591, coefficients=array([  -0.97568102, -286.63687172,   15.15954591, -134.85771549,\n",
       "        111.56268448,  -26.47350033,   20.65098285]), intercept=712526.1699578939, magnitude=1592.3142917872174), swir1=SpectralModel(rmse=216.30961628614136, coefficients=array([ -6.90413573e-01,  -7.76755917e+02,  -3.26236373e+02,\n",
       "        -1.50690008e+02,  -6.04927412e+01,   1.90720882e+01,\n",
       "         6.42353002e+01]), intercept=505454.58881559671, magnitude=1688.8463580988173), swir2=SpectralModel(rmse=233.92327683993082, coefficients=array([  -1.00323538, -610.24490362, -216.53360405, -122.16596807,\n",
       "        -74.64422048,    4.58729785,   40.19931896]), intercept=732032.9411094269, magnitude=1326.2522096550674), thermal=SpectralModel(rmse=307.41261553523788, coefficients=array([  2.01239264e-01,  -1.61237072e+03,   9.77148743e+01,\n",
       "        -1.11342889e+02,   1.43564928e+02,  -0.00000000e+00,\n",
       "         1.57888405e+02]), intercept=-143866.07844503975, magnitude=1586.5824117497832)),\n",
       "  ChangeModel(start_day=728416, end_day=729920, break_day=729968, observation_count=55, change_probability=1, curve_qa=8, blue=SpectralModel(rmse=140.88607635122011, coefficients=array([ -5.47049784e-02,  -1.51501701e+02,  -4.00641939e+02,\n",
       "        -9.52986868e+01,   1.03646576e+02,  -8.45274771e+01,\n",
       "        -1.08529579e+02]), intercept=40584.444599890645, magnitude=248.10292636459053), green=SpectralModel(rmse=177.08431165626925, coefficients=array([ -1.13780661e-01,  -2.62525957e+02,  -5.64292537e+02,\n",
       "        -1.19330869e+02,   1.22448055e+02,  -1.66386626e+02,\n",
       "        -1.17393639e+02]), intercept=83937.953347673538, magnitude=491.22316428020713), red=SpectralModel(rmse=201.48265559738232, coefficients=array([ -1.61858771e-01,  -2.62193956e+02,  -7.74586584e+02,\n",
       "        -1.78703515e+02,   1.42824709e+02,  -1.63572338e+02,\n",
       "        -1.41418058e+02]), intercept=119068.28343422094, magnitude=642.84656193372211), nir=SpectralModel(rmse=398.85721789387452, coefficients=array([ -3.74381952e-01,  -8.46135883e+02,  -1.61943367e+03,\n",
       "        -1.64483964e+02,   3.47472127e+02,  -4.91147282e+02,\n",
       "        -2.98043481e+02]), intercept=274650.5102584064, magnitude=1020.8297715451627), swir1=SpectralModel(rmse=426.95590608795936, coefficients=array([ -2.75844273e-01,  -5.30955103e+02,  -1.95845269e+03,\n",
       "        -1.95807070e+02,   2.68700817e+02,  -2.31098518e+02,\n",
       "        -4.24333482e+02]), intercept=202822.15393287656, magnitude=613.30603746793349), swir2=SpectralModel(rmse=333.49825059841845, coefficients=array([ -2.95264792e-02,  -2.45497937e+02,  -1.29716926e+03,\n",
       "        -1.39324020e+02,   1.30983606e+02,  -1.03683307e+02,\n",
       "        -2.74144569e+02]), intercept=22647.361486955746, magnitude=320.86979213725317), thermal=SpectralModel(rmse=317.19497417923594, coefficients=array([ -1.04447494e-01,  -1.25874192e+03,  -5.22306034e+02,\n",
       "        -3.30743477e+02,   2.78866793e+02,  -1.21361884e+02,\n",
       "         8.52737797e+01]), intercept=77936.662880088348, magnitude=218.55922674034082)),\n",
       "  ChangeModel(start_day=730152, end_day=730680, break_day=730688, observation_count=48, change_probability=1, curve_qa=8, blue=SpectralModel(rmse=175.6824573341687, coefficients=array([ -0.44016951,  -6.64030563,  -5.79563371,  49.64720945,\n",
       "       -32.44700612,   7.63781117,  55.00431222]), intercept=322829.97935021087, magnitude=391.92600800242508), green=SpectralModel(rmse=193.89441761563123, coefficients=array([  -0.48535503, -133.77837249,    0.        ,   51.36321788,\n",
       "        -29.04440035,    3.61635483,   84.88192711]), intercept=356207.19450153207, magnitude=520.21949779614806), red=SpectralModel(rmse=204.22512969615434, coefficients=array([  -0.43406356, -244.90252321,  -99.31941486,   93.09388005,\n",
       "        -37.86600875,   16.20072397,  102.58539841]), intercept=319043.88053445856, magnitude=650.12204042772646), nir=SpectralModel(rmse=195.88277390943034, coefficients=array([ -4.15257729e-01,  -4.18533848e+02,   6.52430118e+01,\n",
       "        -1.05735122e+02,  -7.81838397e+01,   2.99022464e+00,\n",
       "         3.40751580e+00]), intercept=306127.72964460286, magnitude=553.6301741192583), swir1=SpectralModel(rmse=318.08629348964661, coefficients=array([  -0.74732973, -363.03712433, -158.94762934,   95.82232967,\n",
       "        -99.0185408 ,  -91.32729493,  111.93106007]), intercept=549790.38304278417, magnitude=890.61511870345566), swir2=SpectralModel(rmse=317.55787494352467, coefficients=array([  -0.68514665, -237.57238684,   15.44570451,   84.86631447,\n",
       "          7.80621074,  -93.82273357,  162.85165556]), intercept=503336.25815996784, magnitude=942.95758448241395), thermal=SpectralModel(rmse=383.24615103800795, coefficients=array([  7.43329502e-01,  -1.69267557e+03,   2.24568840e+02,\n",
       "        -7.60068203e+01,   1.21185300e+02,   3.21215104e+01,\n",
       "        -5.06251063e+01]), intercept=-540161.32662580814, magnitude=340.37613480398431)),\n",
       "  ChangeModel(start_day=730688, end_day=731648, break_day=731656, observation_count=76, change_probability=1, curve_qa=8, blue=SpectralModel(rmse=128.22180626683758, coefficients=array([ -1.63219920e-01,  -2.47588674e+02,  -1.67884411e+02,\n",
       "        -5.25734091e+01,  -7.85292008e+01,  -3.43829762e+01,\n",
       "        -2.72175833e+01]), intercept=120610.33299503144, magnitude=676.60349882258743), green=SpectralModel(rmse=115.92515800513986, coefficients=array([ -3.02445911e-01,  -3.72096246e+02,  -1.95644834e+02,\n",
       "        -7.88742536e+01,  -5.03230100e+01,  -4.78714460e+01,\n",
       "        -7.49676440e+00]), intercept=222800.68713605075, magnitude=847.31122042391507), red=SpectralModel(rmse=111.99526611320432, coefficients=array([ -5.11154363e-01,  -5.37400704e+02,  -2.56669802e+02,\n",
       "        -1.68889534e+02,  -4.46273836e+01,  -8.77659582e+01,\n",
       "        -1.29445249e+01]), intercept=375686.40285619994, magnitude=1059.631686901761), nir=SpectralModel(rmse=186.16851218483606, coefficients=array([  -0.6947644 , -104.21500181,  -69.32110239,   88.17111179,\n",
       "        105.70780588,    3.68252661,   94.94894387]), intercept=510861.9038209421, magnitude=1569.1311298058718), swir1=SpectralModel(rmse=154.90779660420534, coefficients=array([ -6.47722512e-01,  -7.44110378e+02,  -2.15493664e+02,\n",
       "        -2.76258183e+02,  -5.87767001e+01,  -1.31871370e+02,\n",
       "        -1.32350498e+01]), intercept=477576.56255029311, magnitude=3465.1094016419083), swir2=SpectralModel(rmse=198.14277875318493, coefficients=array([ -2.21097448e-01,  -8.48598411e+02,  -1.85115845e+02,\n",
       "        -3.16854914e+02,  -1.51057059e+02,  -1.59168695e+02,\n",
       "        -2.30874690e+01]), intercept=164842.29588604672, magnitude=2956.1355119526561), thermal=SpectralModel(rmse=373.76343391475473, coefficients=array([ -2.07856524e-01,  -1.66209397e+03,   1.69917054e+02,\n",
       "        -3.50585196e+02,   1.65428596e+02,  -1.30136609e+01,\n",
       "         2.03098879e+02]), intercept=155004.494156114, magnitude=1043.8956830926181)),\n",
       "  ChangeModel(start_day=732624, end_day=733880, break_day=733888, observation_count=103, change_probability=1, curve_qa=8, blue=SpectralModel(rmse=129.72192719912655, coefficients=array([  1.07988184e-02,  -2.53802309e+02,  -7.73082733e+01,\n",
       "        -0.00000000e+00,   6.05257897e+00,   2.21818291e+01,\n",
       "        -1.00926245e+00]), intercept=-6860.4266852420033, magnitude=394.98051999094105), green=SpectralModel(rmse=148.16375527667978, coefficients=array([  9.74781808e-03,  -3.77200596e+02,  -1.06527898e+02,\n",
       "        -7.17662561e+00,   1.88156830e+01,   8.44075903e+00,\n",
       "         6.77138204e+00]), intercept=-5784.1633239249959, magnitude=447.49441815952059), red=SpectralModel(rmse=170.83863269787622, coefficients=array([  3.48737250e-02,  -5.14561933e+02,  -1.68673088e+02,\n",
       "        -3.60546656e+01,  -2.96981292e+00,   4.29634755e+00,\n",
       "        -8.38884617e+00]), intercept=-23916.429270778808, magnitude=548.87597991274197), nir=SpectralModel(rmse=329.58878856319643, coefficients=array([  3.00782935e-01,  -3.31597978e+02,  -9.06969118e+00,\n",
       "         5.75828482e+01,   1.31533773e+02,   8.75900630e+00,\n",
       "         1.33394330e+02]), intercept=-218055.29103439479, magnitude=439.48433863697574), swir1=SpectralModel(rmse=204.0739669310845, coefficients=array([ -3.83141998e-02,  -7.82674857e+02,  -8.58557940e+01,\n",
       "        -1.00796489e+02,  -4.16759125e+01,   1.17605341e+01,\n",
       "         1.68114206e-01]), intercept=31707.324438669366, magnitude=891.57433298079923), swir2=SpectralModel(rmse=201.79845694300425, coefficients=array([  8.98943823e-02,  -6.83922146e+02,  -4.95404177e+01,\n",
       "        -9.08150875e+01,  -4.91862463e+01,   1.46260305e+01,\n",
       "        -4.20968662e+00]), intercept=-63254.313246387253, magnitude=886.51368848234415), thermal=SpectralModel(rmse=418.42749105408399, coefficients=array([  3.31378275e-01,  -1.64458811e+03,   2.30118142e+02,\n",
       "        -1.74123293e+02,   1.04806139e+02,  -7.24220509e+01,\n",
       "         2.02685199e+01]), intercept=-239838.45983756849, magnitude=523.46610693902767)),\n",
       "  ChangeModel(start_day=733944, end_day=734840, break_day=734856, observation_count=56, change_probability=1, curve_qa=8, blue=SpectralModel(rmse=95.160566992831534, coefficients=array([  1.96602481e-02,  -2.36490152e+02,  -3.46154275e+02,\n",
       "        -4.47038354e+01,   4.60707357e+01,  -8.09527762e+01,\n",
       "        -1.09563627e+01]), intercept=-13827.593785100911, magnitude=623.8682652282705), green=SpectralModel(rmse=108.84329869997971, coefficients=array([  1.90828686e-01,  -3.55497001e+02,  -4.50195358e+02,\n",
       "         4.18086691e+00,   8.68416951e+01,  -8.33692026e+01,\n",
       "         1.82708111e+00]), intercept=-139278.60816207668, magnitude=488.1340074052423), red=SpectralModel(rmse=131.83557567104518, coefficients=array([ -3.24749590e-02,  -4.03363668e+02,  -6.13286817e+02,\n",
       "        -6.43077693e+01,   1.37470743e+02,  -6.02299928e+01,\n",
       "        -1.62300954e+00]), intercept=24769.603988642615, magnitude=761.74384999579161), nir=SpectralModel(rmse=356.53993337747778, coefficients=array([    1.51033611,  -963.5028241 , -1288.91524938,   314.78607899,\n",
       "         480.55770627,  -328.91695816,  -108.80147856]), intercept=-1107370.3690243976, magnitude=396.51618194091134), swir1=SpectralModel(rmse=342.1724295711756, coefficients=array([ -1.32837712e-01,  -7.47876281e+02,  -1.59858576e+03,\n",
       "        -2.73264920e+01,   2.35032822e+02,  -3.20762467e+02,\n",
       "        -2.06656012e+02]), intercept=99066.399745325412, magnitude=2795.7305392085036), swir2=SpectralModel(rmse=220.96358038752263, coefficients=array([ -5.89798547e-01,  -4.03109482e+02,  -9.85136914e+02,\n",
       "        -7.55677255e+01,   7.55370299e+01,  -2.32829522e+02,\n",
       "        -1.48058159e+02]), intercept=434020.69307278917, magnitude=2590.6516497987031), thermal=SpectralModel(rmse=328.95661399814935, coefficients=array([ -7.50091808e-01,  -1.33673353e+03,  -4.71826845e+02,\n",
       "        -8.66476081e+01,   3.34207757e+02,  -6.56244942e+01,\n",
       "        -6.03746266e+01]), intercept=552923.29530157428, magnitude=1425.0958299211343)),\n",
       "  ChangeModel(start_day=735104, end_day=735832, break_day=735840, observation_count=51, change_probability=1, curve_qa=8, blue=SpectralModel(rmse=155.41684285446408, coefficients=array([ -3.58671296e-01,  -4.76344369e+01,  -5.03002222e+02,\n",
       "         5.05580365e+01,   1.95142133e+01,  -7.87583560e+00,\n",
       "        -3.53778063e+01]), intercept=264561.79328591895, magnitude=89.730871745472541), green=SpectralModel(rmse=171.70517020930012, coefficients=array([ -8.21212287e-02,  -2.21674874e+02,  -7.64959831e+02,\n",
       "         9.57142805e+01,   3.60727086e+01,  -3.71967243e+01,\n",
       "        -3.67165336e+01]), intercept=61467.80363823002, magnitude=214.12638155721652), red=SpectralModel(rmse=214.26805634930531, coefficients=array([  2.59721674e-01,  -2.81304588e+02,  -1.08155815e+03,\n",
       "         9.34329795e+00,   6.04976157e+01,  -3.03269166e+01,\n",
       "        -6.34225497e+01]), intercept=-189785.14751879426, magnitude=599.49762251999346), nir=SpectralModel(rmse=387.75657969853694, coefficients=array([  1.53582869e+00,  -9.01399203e+02,  -1.86714534e+03,\n",
       "         3.64854243e+02,   1.62943484e+02,  -3.63765361e+02,\n",
       "        -1.52716604e+02]), intercept=-1127646.6064734841, magnitude=1783.1165244522272), swir1=SpectralModel(rmse=345.14277437984055, coefficients=array([ -5.25866791e-01,  -1.92563747e+02,  -2.16884335e+03,\n",
       "         2.27620943e+02,   1.92613603e+02,  -9.28845099e+01,\n",
       "        -2.55172709e+02]), intercept=388991.92474565847, magnitude=332.85441442788579), swir2=SpectralModel(rmse=299.80083704642249, coefficients=array([ -1.46193779e+00,   2.12620852e+02,  -1.46287211e+03,\n",
       "         2.49580862e+02,   1.73751684e+02,   6.74422853e+01,\n",
       "        -1.70616677e+02]), intercept=1076913.7800365181, magnitude=853.87781989364885), thermal=SpectralModel(rmse=378.85878082215748, coefficients=array([ -8.41116634e-01,  -1.08175833e+03,  -4.55098652e+02,\n",
       "        -1.35904114e+02,   3.97989143e+02,  -1.17984749e+00,\n",
       "        -1.82433117e+01]), intercept=621053.5920593366, magnitude=640.96558440831723)),\n",
       "  ChangeModel(start_day=735840, end_day=735944, break_day=735944, observation_count=11, change_probability=0, curve_qa=24, blue=SpectralModel(rmse=67.516000343646326, coefficients=array([ 0.01701986, -0.        ,  0.        ,  0.        ,  0.        ,\n",
       "        0.        ,  0.        ]), intercept=-11400.628824392326, magnitude=0.0), green=SpectralModel(rmse=61.065514587261553, coefficients=array([ -0.19998569,   0.        , -70.70414182,   0.        ,\n",
       "         0.        ,   0.        ,   0.        ]), intercept=148604.99068946365, magnitude=0.0), red=SpectralModel(rmse=62.659300168170411, coefficients=array([ -0.57219967,  -0.        , -89.01772724,   0.        ,\n",
       "         0.        ,   0.        ,   0.        ]), intercept=422771.27337145974, magnitude=0.0), nir=SpectralModel(rmse=92.086274632748442, coefficients=array([ -2.94660224,   0.        , -95.01244861,   0.        ,\n",
       "         0.        ,   0.        ,   0.        ]), intercept=2170605.157580399, magnitude=0.0), swir1=SpectralModel(rmse=103.55296333613617, coefficients=array([-5.0068564, -0.       ,  0.       ,  0.       ,  0.       ,\n",
       "        0.       ,  0.       ]), intercept=3687923.8216156755, magnitude=0.0), swir2=SpectralModel(rmse=124.0322280401685, coefficients=array([ -5.30428278,   0.        ,  57.44354077,   0.        ,\n",
       "         0.        ,   0.        ,   0.        ]), intercept=3906436.8617561231, magnitude=0.0), thermal=SpectralModel(rmse=443.70600515457375, coefficients=array([   48.51786165, -4798.5131319 ,  -274.00306449,     0.        ,\n",
       "           0.        ,     0.        ,     0.        ]), intercept=-35701119.360892206, magnitude=0.0))],\n",
       " 'procedure': 'standard_procedure',\n",
       " 'processing_mask': array([False, False, False, ..., False, False, False], dtype=bool)}"
      ]
     },
     "execution_count": 24,
     "metadata": {},
     "output_type": "execute_result"
    }
   ],
   "source": [
    "res"
   ]
  },
  {
   "cell_type": "code",
   "execution_count": 27,
   "metadata": {},
   "outputs": [
    {
     "name": "stdout",
     "output_type": "stream",
     "text": [
      "1982-01-01/2015-12-31\n"
     ]
    }
   ],
   "source": [
    "print(dates)"
   ]
  },
  {
   "cell_type": "code",
   "execution_count": null,
   "metadata": {
    "collapsed": true
   },
   "outputs": [],
   "source": []
  }
 ],
 "metadata": {
  "kernelspec": {
   "display_name": "Python 3",
   "language": "python",
   "name": "python3"
  },
  "language_info": {
   "codemirror_mode": {
    "name": "ipython",
    "version": 3
   },
   "file_extension": ".py",
   "mimetype": "text/x-python",
   "name": "python",
   "nbconvert_exporter": "python",
   "pygments_lexer": "ipython3",
   "version": "3.5.3"
  }
 },
 "nbformat": 4,
 "nbformat_minor": 2
}
